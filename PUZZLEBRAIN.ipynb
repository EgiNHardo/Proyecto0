{
  "nbformat": 4,
  "nbformat_minor": 0,
  "metadata": {
    "colab": {
      "provenance": [],
      "authorship_tag": "ABX9TyPHFtsYp3wz1HssCMxSEUFI",
      "include_colab_link": true
    },
    "kernelspec": {
      "name": "python3",
      "display_name": "Python 3"
    },
    "language_info": {
      "name": "python"
    }
  },
  "cells": [
    {
      "cell_type": "markdown",
      "metadata": {
        "id": "view-in-github",
        "colab_type": "text"
      },
      "source": [
        "<a href=\"https://colab.research.google.com/github/EgiNHardo/Proyecto0/blob/main/PUZZLEBRAIN.ipynb\" target=\"_parent\"><img src=\"https://colab.research.google.com/assets/colab-badge.svg\" alt=\"Open In Colab\"/></a>"
      ]
    },
    {
      "cell_type": "code",
      "source": [
        "pip install matplotlib moviepy networkx pillow\n"
      ],
      "metadata": {
        "colab": {
          "base_uri": "https://localhost:8080/"
        },
        "id": "eogJq9tjMT1l",
        "outputId": "8bd23321-09d3-4e0d-fa92-9d90c5cd270e"
      },
      "execution_count": 14,
      "outputs": [
        {
          "output_type": "stream",
          "name": "stdout",
          "text": [
            "Requirement already satisfied: matplotlib in /usr/local/lib/python3.11/dist-packages (3.10.0)\n",
            "Requirement already satisfied: moviepy in /usr/local/lib/python3.11/dist-packages (1.0.3)\n",
            "Requirement already satisfied: networkx in /usr/local/lib/python3.11/dist-packages (3.5)\n",
            "Requirement already satisfied: pillow in /usr/local/lib/python3.11/dist-packages (11.2.1)\n",
            "Requirement already satisfied: contourpy>=1.0.1 in /usr/local/lib/python3.11/dist-packages (from matplotlib) (1.3.2)\n",
            "Requirement already satisfied: cycler>=0.10 in /usr/local/lib/python3.11/dist-packages (from matplotlib) (0.12.1)\n",
            "Requirement already satisfied: fonttools>=4.22.0 in /usr/local/lib/python3.11/dist-packages (from matplotlib) (4.58.5)\n",
            "Requirement already satisfied: kiwisolver>=1.3.1 in /usr/local/lib/python3.11/dist-packages (from matplotlib) (1.4.8)\n",
            "Requirement already satisfied: numpy>=1.23 in /usr/local/lib/python3.11/dist-packages (from matplotlib) (2.0.2)\n",
            "Requirement already satisfied: packaging>=20.0 in /usr/local/lib/python3.11/dist-packages (from matplotlib) (24.2)\n",
            "Requirement already satisfied: pyparsing>=2.3.1 in /usr/local/lib/python3.11/dist-packages (from matplotlib) (3.2.3)\n",
            "Requirement already satisfied: python-dateutil>=2.7 in /usr/local/lib/python3.11/dist-packages (from matplotlib) (2.9.0.post0)\n",
            "Requirement already satisfied: decorator<5.0,>=4.0.2 in /usr/local/lib/python3.11/dist-packages (from moviepy) (4.4.2)\n",
            "Requirement already satisfied: tqdm<5.0,>=4.11.2 in /usr/local/lib/python3.11/dist-packages (from moviepy) (4.67.1)\n",
            "Requirement already satisfied: requests<3.0,>=2.8.1 in /usr/local/lib/python3.11/dist-packages (from moviepy) (2.32.3)\n",
            "Requirement already satisfied: proglog<=1.0.0 in /usr/local/lib/python3.11/dist-packages (from moviepy) (0.1.12)\n",
            "Requirement already satisfied: imageio<3.0,>=2.5 in /usr/local/lib/python3.11/dist-packages (from moviepy) (2.37.0)\n",
            "Requirement already satisfied: imageio-ffmpeg>=0.2.0 in /usr/local/lib/python3.11/dist-packages (from moviepy) (0.6.0)\n",
            "Requirement already satisfied: six>=1.5 in /usr/local/lib/python3.11/dist-packages (from python-dateutil>=2.7->matplotlib) (1.17.0)\n",
            "Requirement already satisfied: charset-normalizer<4,>=2 in /usr/local/lib/python3.11/dist-packages (from requests<3.0,>=2.8.1->moviepy) (3.4.2)\n",
            "Requirement already satisfied: idna<4,>=2.5 in /usr/local/lib/python3.11/dist-packages (from requests<3.0,>=2.8.1->moviepy) (3.10)\n",
            "Requirement already satisfied: urllib3<3,>=1.21.1 in /usr/local/lib/python3.11/dist-packages (from requests<3.0,>=2.8.1->moviepy) (2.4.0)\n",
            "Requirement already satisfied: certifi>=2017.4.17 in /usr/local/lib/python3.11/dist-packages (from requests<3.0,>=2.8.1->moviepy) (2025.6.15)\n"
          ]
        }
      ]
    },
    {
      "cell_type": "code",
      "source": [
        "import os\n",
        "import matplotlib.pyplot as plt\n",
        "import networkx as nx\n",
        "from moviepy.editor import ImageSequenceClip\n",
        "\n",
        "# Crear carpetas para las imágenes\n",
        "os.makedirs(\"frames_puzzle\", exist_ok=True)\n",
        "os.makedirs(\"frames_red\", exist_ok=True)\n",
        "\n",
        "# -------- 1. Rompecabezas uniéndose (10 segundos = 10 fps * 10 = 100 frames) --------\n",
        "def generar_rompecabezas():\n",
        "    piezas = 9\n",
        "    lado = 3\n",
        "    fig, ax = plt.subplots(figsize=(5, 5))\n",
        "\n",
        "    for i in range(100):  # 100 frames\n",
        "        ax.clear()\n",
        "        ax.set_xlim(0, lado)\n",
        "        ax.set_ylim(0, lado)\n",
        "        ax.axis('off')\n",
        "\n",
        "        for p in range(min(i // 10 + 1, piezas)):\n",
        "            fila = p // lado\n",
        "            col = p % lado\n",
        "            ax.add_patch(plt.Rectangle((col, lado - fila - 1), 1, 1, fill=True, color=\"skyblue\", ec='black'))\n",
        "            ax.text(col + 0.5, lado - fila - 0.5, f'C{p+1}', ha='center', va='center', fontsize=12)\n",
        "\n",
        "        plt.savefig(f\"frames_puzzle/frame_{i:03d}.png\", bbox_inches='tight')\n",
        "\n",
        "# -------- 2. Red neuronal conectándose (otros 100 frames) --------\n",
        "def generar_red_neuronal():\n",
        "    G = nx.erdos_renyi_graph(15, 0.1)\n",
        "    pos = nx.spring_layout(G, seed=42)\n",
        "\n",
        "    for i in range(100):\n",
        "        fig, ax = plt.subplots(figsize=(5, 5))\n",
        "        ax.axis('off')\n",
        "\n",
        "        # Mostrar nodos\n",
        "        nx.draw_networkx_nodes(G, pos, ax=ax, node_size=300, node_color=\"lightgreen\")\n",
        "\n",
        "        # Mostrar progresivamente las aristas\n",
        "        edges_to_draw = list(G.edges())[:i // 2]\n",
        "        nx.draw_networkx_edges(G, pos, edgelist=edges_to_draw, ax=ax, width=2, edge_color=\"gray\")\n",
        "\n",
        "        # Opcional: etiquetas\n",
        "        nx.draw_networkx_labels(G, pos, ax=ax, font_size=10)\n",
        "\n",
        "        plt.savefig(f\"frames_red/frame_{i:03d}.png\", bbox_inches='tight')\n",
        "        plt.close()\n",
        "\n",
        "# -------- 3. Unir ambas partes en video --------\n",
        "def crear_video():\n",
        "    frames_puzzle = [f\"frames_puzzle/frame_{i:03d}.png\" for i in range(100)]\n",
        "    frames_red = [f\"frames_red/frame_{i:03d}.png\" for i in range(100)]\n",
        "    frames_total = frames_puzzle + frames_red\n",
        "\n",
        "    clip = ImageSequenceClip(frames_total, fps=10)\n",
        "    clip.write_videofile(\"rompecabezas_red_neuronal.mp4\", codec='libx264')\n",
        "\n",
        "# -------- Ejecutar todo --------\n",
        "generar_rompecabezas()\n",
        "generar_red_neuronal()\n",
        "crear_video()\n"
      ],
      "metadata": {
        "colab": {
          "base_uri": "https://localhost:8080/",
          "height": 561
        },
        "id": "t74ZzrpzNOF-",
        "outputId": "10b57154-4074-47dd-e868-1fab2d2bb896"
      },
      "execution_count": 15,
      "outputs": [
        {
          "output_type": "stream",
          "name": "stderr",
          "text": [
            "WARNING:py.warnings:/usr/local/lib/python3.11/dist-packages/moviepy/video/io/sliders.py:61: SyntaxWarning: \"is\" with a literal. Did you mean \"==\"?\n",
            "  if event.key is 'enter':\n",
            "\n"
          ]
        },
        {
          "output_type": "stream",
          "name": "stdout",
          "text": [
            "Moviepy - Building video rompecabezas_red_neuronal.mp4.\n",
            "Moviepy - Writing video rompecabezas_red_neuronal.mp4\n",
            "\n"
          ]
        },
        {
          "output_type": "stream",
          "name": "stderr",
          "text": []
        },
        {
          "output_type": "stream",
          "name": "stdout",
          "text": [
            "Moviepy - Done !\n",
            "Moviepy - video ready rompecabezas_red_neuronal.mp4\n"
          ]
        },
        {
          "output_type": "display_data",
          "data": {
            "text/plain": [
              "<Figure size 500x500 with 1 Axes>"
            ],
            "image/png": "[encoded data removed]"
          },
          "metadata": {}
        }
      ]
    },
    {
      "cell_type": "code",
      "source": [
        "pip install matplotlib networkx moviepy\n"
      ],
      "metadata": {
        "colab": {
          "base_uri": "https://localhost:8080/"
        },
        "id": "1ttw5PxhOGu8",
        "outputId": "f7350ec4-2dda-4592-af5d-d5591514e269"
      },
      "execution_count": 16,
      "outputs": [
        {
          "output_type": "stream",
          "name": "stdout",
          "text": [
            "Requirement already satisfied: matplotlib in /usr/local/lib/python3.11/dist-packages (3.10.0)\n",
            "Requirement already satisfied: networkx in /usr/local/lib/python3.11/dist-packages (3.5)\n",
            "Requirement already satisfied: moviepy in /usr/local/lib/python3.11/dist-packages (1.0.3)\n",
            "Requirement already satisfied: contourpy>=1.0.1 in /usr/local/lib/python3.11/dist-packages (from matplotlib) (1.3.2)\n",
            "Requirement already satisfied: cycler>=0.10 in /usr/local/lib/python3.11/dist-packages (from matplotlib) (0.12.1)\n",
            "Requirement already satisfied: fonttools>=4.22.0 in /usr/local/lib/python3.11/dist-packages (from matplotlib) (4.58.5)\n",
            "Requirement already satisfied: kiwisolver>=1.3.1 in /usr/local/lib/python3.11/dist-packages (from matplotlib) (1.4.8)\n",
            "Requirement already satisfied: numpy>=1.23 in /usr/local/lib/python3.11/dist-packages (from matplotlib) (2.0.2)\n",
            "Requirement already satisfied: packaging>=20.0 in /usr/local/lib/python3.11/dist-packages (from matplotlib) (24.2)\n",
            "Requirement already satisfied: pillow>=8 in /usr/local/lib/python3.11/dist-packages (from matplotlib) (11.2.1)\n",
            "Requirement already satisfied: pyparsing>=2.3.1 in /usr/local/lib/python3.11/dist-packages (from matplotlib) (3.2.3)\n",
            "Requirement already satisfied: python-dateutil>=2.7 in /usr/local/lib/python3.11/dist-packages (from matplotlib) (2.9.0.post0)\n",
            "Requirement already satisfied: decorator<5.0,>=4.0.2 in /usr/local/lib/python3.11/dist-packages (from moviepy) (4.4.2)\n",
            "Requirement already satisfied: tqdm<5.0,>=4.11.2 in /usr/local/lib/python3.11/dist-packages (from moviepy) (4.67.1)\n",
            "Requirement already satisfied: requests<3.0,>=2.8.1 in /usr/local/lib/python3.11/dist-packages (from moviepy) (2.32.3)\n",
            "Requirement already satisfied: proglog<=1.0.0 in /usr/local/lib/python3.11/dist-packages (from moviepy) (0.1.12)\n",
            "Requirement already satisfied: imageio<3.0,>=2.5 in /usr/local/lib/python3.11/dist-packages (from moviepy) (2.37.0)\n",
            "Requirement already satisfied: imageio-ffmpeg>=0.2.0 in /usr/local/lib/python3.11/dist-packages (from moviepy) (0.6.0)\n",
            "Requirement already satisfied: six>=1.5 in /usr/local/lib/python3.11/dist-packages (from python-dateutil>=2.7->matplotlib) (1.17.0)\n",
            "Requirement already satisfied: charset-normalizer<4,>=2 in /usr/local/lib/python3.11/dist-packages (from requests<3.0,>=2.8.1->moviepy) (3.4.2)\n",
            "Requirement already satisfied: idna<4,>=2.5 in /usr/local/lib/python3.11/dist-packages (from requests<3.0,>=2.8.1->moviepy) (3.10)\n",
            "Requirement already satisfied: urllib3<3,>=1.21.1 in /usr/local/lib/python3.11/dist-packages (from requests<3.0,>=2.8.1->moviepy) (2.4.0)\n",
            "Requirement already satisfied: certifi>=2017.4.17 in /usr/local/lib/python3.11/dist-packages (from requests<3.0,>=2.8.1->moviepy) (2025.6.15)\n"
          ]
        }
      ]
    },
    {
      "cell_type": "code",
      "source": [
        "import os\n",
        "import matplotlib.pyplot as plt\n",
        "import networkx as nx\n",
        "from moviepy.editor import ImageSequenceClip\n",
        "import shutil\n",
        "\n",
        "# Configuración\n",
        "frames_dir = \"frames_red_neuronal\"\n",
        "video_filename = \"red_neuronal_animada.mp4\"\n",
        "fps = 10\n",
        "duracion = 10  # segundos\n",
        "total_frames = fps * duracion\n",
        "\n",
        "# Preparar carpeta limpia\n",
        "if os.path.exists(frames_dir):\n",
        "    shutil.rmtree(frames_dir)\n",
        "os.makedirs(frames_dir)\n",
        "\n",
        "# Crear grafo (red) de ideas\n",
        "nodos = 20\n",
        "probabilidad_conexion = 0.2\n",
        "G = nx.erdos_renyi_graph(nodos, probabilidad_conexion, seed=42)\n",
        "pos = nx.spring_layout(G, seed=42)  # Layout estático para consistencia\n",
        "\n",
        "# Crear frames animando la red\n",
        "for i in range(total_frames):\n",
        "    plt.figure(figsize=(6, 6))\n",
        "    plt.axis('off')\n",
        "\n",
        "    # Mostrar todos los nodos\n",
        "    nx.draw_networkx_nodes(G, pos, node_color='lightblue', node_size=500)\n",
        "\n",
        "    # Animar las conexiones poco a poco\n",
        "    num_edges = int(len(G.edges) * (i / total_frames))\n",
        "    edges_to_draw = list(G.edges())[:num_edges]\n",
        "    nx.draw_networkx_edges(G, pos, edgelist=edges_to_draw, width=2, edge_color='gray')\n",
        "\n",
        "    # Etiquetas opcionales (puedes quitar esto)\n",
        "    nx.draw_networkx_labels(G, pos, font_size=10)\n",
        "\n",
        "    # Guardar frame\n",
        "    frame_path = os.path.join(frames_dir, f\"frame_{i:03d}.png\")\n",
        "    plt.savefig(frame_path, bbox_inches='tight')\n",
        "    plt.close()\n",
        "\n",
        "# Crear video\n",
        "clip = ImageSequenceClip([os.path.join(frames_dir, f\"frame_{i:03d}.png\") for i in range(total_frames)], fps=fps)\n",
        "clip.write_videofile(video_filename, codec='libx264')\n",
        "\n",
        "print(f\"\\n✅ Video generado exitosamente: {video_filename}\")\n"
      ],
      "metadata": {
        "colab": {
          "base_uri": "https://localhost:8080/"
        },
        "id": "drJPjbEkOLvs",
        "outputId": "af2c98d0-68ac-4bb0-cfaa-9210ed87cbca"
      },
      "execution_count": 17,
      "outputs": [
        {
          "output_type": "stream",
          "name": "stdout",
          "text": [
            "Moviepy - Building video red_neuronal_animada.mp4.\n",
            "Moviepy - Writing video red_neuronal_animada.mp4\n",
            "\n"
          ]
        },
        {
          "output_type": "stream",
          "name": "stderr",
          "text": [
            "                                                              "
          ]
        },
        {
          "output_type": "stream",
          "name": "stdout",
          "text": [
            "Moviepy - Done !\n",
            "Moviepy - video ready red_neuronal_animada.mp4\n",
            "\n",
            "✅ Video generado exitosamente: red_neuronal_animada.mp4\n"
          ]
        },
        {
          "output_type": "stream",
          "name": "stderr",
          "text": [
            "\r"
          ]
        }
      ]
    },
    {
      "cell_type": "code",
      "source": [
        "video_filename = \"red_neuronal_animada.mp4\"\n"
      ],
      "metadata": {
        "id": "yfuviM1YOMFt"
      },
      "execution_count": 18,
      "outputs": []
    },
    {
      "cell_type": "code",
      "source": [
        "from google.colab import files\n",
        "files.download(video_filename)\n"
      ],
      "metadata": {
        "colab": {
          "base_uri": "https://localhost:8080/",
          "height": 17
        },
        "id": "Aw6wwki_On30",
        "outputId": "7462cb15-f8f6-4e88-efcf-e19fee3aa2a5"
      },
      "execution_count": 21,
      "outputs": [
        {
          "output_type": "display_data",
          "data": {
            "text/plain": [
              "<IPython.core.display.Javascript object>"
            ],
            "application/javascript": [
              "\n",
              "    async function download(id, filename, size) {\n",
              "      if (!google.colab.kernel.accessAllowed) {\n",
              "        return;\n",
              "      }\n",
              "      const div = document.createElement('div');\n",
              "      const label = document.createElement('label');\n",
              "      label.textContent = `Downloading \"${filename}\": `;\n",
              "      div.appendChild(label);\n",
              "      const progress = document.createElement('progress');\n",
              "      progress.max = size;\n",
              "      div.appendChild(progress);\n",
              "      document.body.appendChild(div);\n",
              "\n",
              "      const buffers = [];\n",
              "      let downloaded = 0;\n",
              "\n",
              "      const channel = await google.colab.kernel.comms.open(id);\n",
              "      // Send a message to notify the kernel that we're ready.\n",
              "      channel.send({})\n",
              "\n",
              "      for await (const message of channel.messages) {\n",
              "        // Send a message to notify the kernel that we're ready.\n",
              "        channel.send({})\n",
              "        if (message.buffers) {\n",
              "          for (const buffer of message.buffers) {\n",
              "            buffers.push(buffer);\n",
              "            downloaded += buffer.byteLength;\n",
              "            progress.value = downloaded;\n",
              "          }\n",
              "        }\n",
              "      }\n",
              "      const blob = new Blob(buffers, {type: 'application/binary'});\n",
              "      const a = document.createElement('a');\n",
              "      a.href = window.URL.createObjectURL(blob);\n",
              "      a.download = filename;\n",
              "      div.appendChild(a);\n",
              "      a.click();\n",
              "      div.remove();\n",
              "    }\n",
              "  "
            ]
          },
          "metadata": {}
        },
        {
          "output_type": "display_data",
          "data": {
            "text/plain": [
              "<IPython.core.display.Javascript object>"
            ],
            "application/javascript": [
              "download(\"download_13bca672-0c7d-4aa5-beab-3f0cc30614e7\", \"red_neuronal_animada.mp4\", 19348)"
            ]
          },
          "metadata": {}
        }
      ]
    },
    {
      "cell_type": "markdown",
      "source": [
        "🧠 CÓDIGO CORREGIDO Y MEJORADO"
      ],
      "metadata": {
        "id": "Bwbi6oYNPzOB"
      }
    },
    {
      "cell_type": "code",
      "source": [
        "import os\n",
        "import matplotlib.pyplot as plt\n",
        "import networkx as nx\n",
        "from moviepy.editor import ImageSequenceClip\n",
        "import shutil\n",
        "\n",
        "# Configuración\n",
        "frames_dir = \"frames_red_neuronal\"\n",
        "video_filename = \"red_neuronal_animada.mp4\"\n",
        "fps = 10\n",
        "duracion = 10  # segundos\n",
        "total_frames = fps * duracion\n",
        "\n",
        "# Preparar carpeta limpia\n",
        "if os.path.exists(frames_dir):\n",
        "    shutil.rmtree(frames_dir)\n",
        "os.makedirs(frames_dir)\n",
        "\n",
        "# -------------------- 1. Crear grafo asegurando conectividad --------------------\n",
        "# Grafo con más nodos y mayor densidad\n",
        "nodos = 40\n",
        "probabilidad_conexion = 0.25\n",
        "\n",
        "# Crear grafo hasta que esté conectado completamente\n",
        "while True:\n",
        "    G = nx.erdos_renyi_graph(nodos, probabilidad_conexion)\n",
        "    if nx.is_connected(G):\n",
        "        break\n",
        "\n",
        "# Layout compacto y fijo\n",
        "pos = nx.spring_layout(G, seed=42, k=0.15)  # k más pequeño = nodos más juntos\n",
        "\n",
        "# -------------------- 2. Crear los frames de la animación --------------------\n",
        "for i in range(total_frames):\n",
        "    fig, ax = plt.subplots(figsize=(6, 6), facecolor='black')\n",
        "    ax.set_facecolor(\"black\")\n",
        "    plt.axis('off')\n",
        "\n",
        "    # Dibujar todos los nodos en azul claro\n",
        "    nx.draw_networkx_nodes(G, pos, ax=ax, node_color='deepskyblue', node_size=250)\n",
        "\n",
        "    # Dibujar progresivamente más conexiones\n",
        "    edges_to_draw = list(G.edges())[:int(len(G.edges()) * (i / total_frames))]\n",
        "    nx.draw_networkx_edges(G, pos, edgelist=edges_to_draw, ax=ax, width=1.8, edge_color='white')\n",
        "\n",
        "    # (Opcional) Mostrar etiquetas - comentado para estética limpia\n",
        "    # nx.draw_networkx_labels(G, pos, ax=ax, font_color=\"white\", font_size=8)\n",
        "\n",
        "    # Guardar imagen\n",
        "    frame_path = os.path.join(frames_dir, f\"frame_{i:03d}.png\")\n",
        "    plt.savefig(frame_path, bbox_inches='tight', facecolor='black')\n",
        "    plt.close()\n",
        "\n",
        "# -------------------- 3. Crear el video --------------------\n",
        "clip = ImageSequenceClip([os.path.join(frames_dir, f\"frame_{i:03d}.png\") for i in range(total_frames)], fps=fps)\n",
        "clip.write_videofile(video_filename, codec='libx264')\n",
        "\n",
        "print(f\"✅ Video final generado correctamente: {video_filename}\")\n"
      ],
      "metadata": {
        "colab": {
          "base_uri": "https://localhost:8080/"
        },
        "id": "VfftZQ4YP03U",
        "outputId": "d0826dd3-fb95-47f3-e7a5-12f6e058673b"
      },
      "execution_count": 22,
      "outputs": [
        {
          "output_type": "stream",
          "name": "stdout",
          "text": [
            "Moviepy - Building video red_neuronal_animada.mp4.\n",
            "Moviepy - Writing video red_neuronal_animada.mp4\n",
            "\n"
          ]
        },
        {
          "output_type": "stream",
          "name": "stderr",
          "text": []
        },
        {
          "output_type": "stream",
          "name": "stdout",
          "text": [
            "Moviepy - Done !\n",
            "Moviepy - video ready red_neuronal_animada.mp4\n",
            "✅ Video final generado correctamente: red_neuronal_animada.mp4\n"
          ]
        }
      ]
    },
    {
      "cell_type": "code",
      "source": [
        "video_filename = \"red_neuronal_animada.mp4\"\n"
      ],
      "metadata": {
        "id": "Le2gPM43QBdk"
      },
      "execution_count": 23,
      "outputs": []
    },
    {
      "cell_type": "code",
      "source": [
        "from google.colab import files\n",
        "files.download(video_filename)\n"
      ],
      "metadata": {
        "colab": {
          "base_uri": "https://localhost:8080/",
          "height": 17
        },
        "id": "j_NmHFSvQHTV",
        "outputId": "28dd9cb8-4af7-41f7-96de-f03c90ed3389"
      },
      "execution_count": 24,
      "outputs": [
        {
          "output_type": "display_data",
          "data": {
            "text/plain": [
              "<IPython.core.display.Javascript object>"
            ],
            "application/javascript": [
              "\n",
              "    async function download(id, filename, size) {\n",
              "      if (!google.colab.kernel.accessAllowed) {\n",
              "        return;\n",
              "      }\n",
              "      const div = document.createElement('div');\n",
              "      const label = document.createElement('label');\n",
              "      label.textContent = `Downloading \"${filename}\": `;\n",
              "      div.appendChild(label);\n",
              "      const progress = document.createElement('progress');\n",
              "      progress.max = size;\n",
              "      div.appendChild(progress);\n",
              "      document.body.appendChild(div);\n",
              "\n",
              "      const buffers = [];\n",
              "      let downloaded = 0;\n",
              "\n",
              "      const channel = await google.colab.kernel.comms.open(id);\n",
              "      // Send a message to notify the kernel that we're ready.\n",
              "      channel.send({})\n",
              "\n",
              "      for await (const message of channel.messages) {\n",
              "        // Send a message to notify the kernel that we're ready.\n",
              "        channel.send({})\n",
              "        if (message.buffers) {\n",
              "          for (const buffer of message.buffers) {\n",
              "            buffers.push(buffer);\n",
              "            downloaded += buffer.byteLength;\n",
              "            progress.value = downloaded;\n",
              "          }\n",
              "        }\n",
              "      }\n",
              "      const blob = new Blob(buffers, {type: 'application/binary'});\n",
              "      const a = document.createElement('a');\n",
              "      a.href = window.URL.createObjectURL(blob);\n",
              "      a.download = filename;\n",
              "      div.appendChild(a);\n",
              "      a.click();\n",
              "      div.remove();\n",
              "    }\n",
              "  "
            ]
          },
          "metadata": {}
        },
        {
          "output_type": "display_data",
          "data": {
            "text/plain": [
              "<IPython.core.display.Javascript object>"
            ],
            "application/javascript": [
              "download(\"download_900f9804-84b1-4a13-8f2e-4c46ff166936\", \"red_neuronal_animada.mp4\", 143924)"
            ]
          },
          "metadata": {}
        }
      ]
    },
    {
      "cell_type": "markdown",
      "source": [
        "🧪 ¿PRUEBAS?"
      ],
      "metadata": {
        "id": "k5AZHZG8RhO1"
      }
    },
    {
      "cell_type": "markdown",
      "source": [
        "Puedes revisar la conectividad del grafo con:"
      ],
      "metadata": {
        "id": "Y1M899fPR4kk"
      }
    },
    {
      "cell_type": "code",
      "source": [
        "print(\"¿La red está completamente conectada?:\", nx.is_connected(G))\n"
      ],
      "metadata": {
        "colab": {
          "base_uri": "https://localhost:8080/"
        },
        "id": "ml6SWqn7RjOV",
        "outputId": "3de90e07-1caf-4444-bc84-4ad47ceda49a"
      },
      "execution_count": 27,
      "outputs": [
        {
          "output_type": "stream",
          "name": "stdout",
          "text": [
            "¿La red está completamente conectada?: True\n"
          ]
        }
      ]
    },
    {
      "cell_type": "markdown",
      "source": [
        "Y si quieres asegurar que todos los nodos estén conectados a al menos 1 vecino:"
      ],
      "metadata": {
        "id": "T3Vl5YuQSKqU"
      }
    },
    {
      "cell_type": "code",
      "source": [
        "aislados = list(nx.isolates(G))\n",
        "print(\"Nodos aislados:\", aislados)\n"
      ],
      "metadata": {
        "colab": {
          "base_uri": "https://localhost:8080/"
        },
        "id": "UhEkohhUSMH8",
        "outputId": "3cbdf8b0-8ba9-431a-e78b-913df7fcc682"
      },
      "execution_count": 28,
      "outputs": [
        {
          "output_type": "stream",
          "name": "stdout",
          "text": [
            "Nodos aislados: []\n"
          ]
        }
      ]
    }
  ]
}