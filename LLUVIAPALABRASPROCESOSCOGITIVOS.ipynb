{
  "nbformat": 4,
  "nbformat_minor": 0,
  "metadata": {
    "colab": {
      "provenance": [],
      "authorship_tag": "ABX9TyM3tOcYNNw7S4uUJea3N1ds",
      "include_colab_link": true
    },
    "kernelspec": {
      "name": "python3",
      "display_name": "Python 3"
    },
    "language_info": {
      "name": "python"
    }
  },
  "cells": [
    {
      "cell_type": "markdown",
      "metadata": {
        "id": "view-in-github",
        "colab_type": "text"
      },
      "source": [
        "<a href=\"https://colab.research.google.com/github/EgiNHardo/Proyecto0/blob/main/LLUVIAPALABRASPROCESOSCOGITIVOS.ipynb\" target=\"_parent\"><img src=\"https://colab.research.google.com/assets/colab-badge.svg\" alt=\"Open In Colab\"/></a>"
      ]
    },
    {
      "cell_type": "markdown",
      "source": [
        "✅ PASO 1: Instalar dependencias"
      ],
      "metadata": {
        "id": "OVrZ7LArWzMs"
      }
    },
    {
      "cell_type": "code",
      "source": [
        "pip install matplotlib moviepy numpy\n"
      ],
      "metadata": {
        "colab": {
          "base_uri": "https://localhost:8080/"
        },
        "id": "HD5-Z_VlXzmj",
        "outputId": "e8a78bff-25cf-4e53-e580-ebf87b8216cc"
      },
      "execution_count": 1,
      "outputs": [
        {
          "output_type": "stream",
          "name": "stdout",
          "text": [
            "Requirement already satisfied: matplotlib in /usr/local/lib/python3.11/dist-packages (3.10.0)\n",
            "Requirement already satisfied: moviepy in /usr/local/lib/python3.11/dist-packages (1.0.3)\n",
            "Requirement already satisfied: numpy in /usr/local/lib/python3.11/dist-packages (2.0.2)\n",
            "Requirement already satisfied: contourpy>=1.0.1 in /usr/local/lib/python3.11/dist-packages (from matplotlib) (1.3.2)\n",
            "Requirement already satisfied: cycler>=0.10 in /usr/local/lib/python3.11/dist-packages (from matplotlib) (0.12.1)\n",
            "Requirement already satisfied: fonttools>=4.22.0 in /usr/local/lib/python3.11/dist-packages (from matplotlib) (4.58.5)\n",
            "Requirement already satisfied: kiwisolver>=1.3.1 in /usr/local/lib/python3.11/dist-packages (from matplotlib) (1.4.8)\n",
            "Requirement already satisfied: packaging>=20.0 in /usr/local/lib/python3.11/dist-packages (from matplotlib) (24.2)\n",
            "Requirement already satisfied: pillow>=8 in /usr/local/lib/python3.11/dist-packages (from matplotlib) (11.2.1)\n",
            "Requirement already satisfied: pyparsing>=2.3.1 in /usr/local/lib/python3.11/dist-packages (from matplotlib) (3.2.3)\n",
            "Requirement already satisfied: python-dateutil>=2.7 in /usr/local/lib/python3.11/dist-packages (from matplotlib) (2.9.0.post0)\n",
            "Requirement already satisfied: decorator<5.0,>=4.0.2 in /usr/local/lib/python3.11/dist-packages (from moviepy) (4.4.2)\n",
            "Requirement already satisfied: tqdm<5.0,>=4.11.2 in /usr/local/lib/python3.11/dist-packages (from moviepy) (4.67.1)\n",
            "Requirement already satisfied: requests<3.0,>=2.8.1 in /usr/local/lib/python3.11/dist-packages (from moviepy) (2.32.3)\n",
            "Requirement already satisfied: proglog<=1.0.0 in /usr/local/lib/python3.11/dist-packages (from moviepy) (0.1.12)\n",
            "Requirement already satisfied: imageio<3.0,>=2.5 in /usr/local/lib/python3.11/dist-packages (from moviepy) (2.37.0)\n",
            "Requirement already satisfied: imageio-ffmpeg>=0.2.0 in /usr/local/lib/python3.11/dist-packages (from moviepy) (0.6.0)\n",
            "Requirement already satisfied: six>=1.5 in /usr/local/lib/python3.11/dist-packages (from python-dateutil>=2.7->matplotlib) (1.17.0)\n",
            "Requirement already satisfied: charset-normalizer<4,>=2 in /usr/local/lib/python3.11/dist-packages (from requests<3.0,>=2.8.1->moviepy) (3.4.2)\n",
            "Requirement already satisfied: idna<4,>=2.5 in /usr/local/lib/python3.11/dist-packages (from requests<3.0,>=2.8.1->moviepy) (3.10)\n",
            "Requirement already satisfied: urllib3<3,>=1.21.1 in /usr/local/lib/python3.11/dist-packages (from requests<3.0,>=2.8.1->moviepy) (2.4.0)\n",
            "Requirement already satisfied: certifi>=2017.4.17 in /usr/local/lib/python3.11/dist-packages (from requests<3.0,>=2.8.1->moviepy) (2025.6.15)\n"
          ]
        }
      ]
    },
    {
      "cell_type": "markdown",
      "source": [
        "🧠 PASO 2: Código completo en Python – \"Lluvia de palabras cognitivas\""
      ],
      "metadata": {
        "id": "p5wB0XsyX1o7"
      }
    },
    {
      "cell_type": "code",
      "source": [
        "import os\n",
        "import numpy as np\n",
        "import matplotlib.pyplot as plt\n",
        "from moviepy.editor import ImageSequenceClip\n",
        "import random\n",
        "import shutil\n",
        "\n",
        "# -------- PARÁMETROS GENERALES --------\n",
        "palabras = [\n",
        "    \"Atención\", \"Percepción\", \"Memoria\", \"Lenguaje\", \"Pensamiento\", \"Aprendizaje\",\n",
        "    \"Razonamiento\", \"Codificación\", \"Recuperación\", \"Procesamiento\", \"Conciencia\",\n",
        "    \"Función Ejecutiva\", \"Inteligencia\", \"Abstracción\", \"Decisión\"\n",
        "]\n",
        "\n",
        "# Resolución del video\n",
        "ancho = 1280\n",
        "alto = 720\n",
        "fps = 24\n",
        "duracion = 12  # en segundos\n",
        "total_frames = fps * duracion\n",
        "\n",
        "frames_dir = \"frames_lluvia\"\n",
        "video_filename = \"lluvia_palabras_cognitivas.mp4\"\n",
        "\n",
        "# -------- PASO 3: LIMPIAR O CREAR LA CARPETA DE FRAMES --------\n",
        "if os.path.exists(frames_dir):\n",
        "    shutil.rmtree(frames_dir)\n",
        "os.makedirs(frames_dir)\n",
        "\n",
        "# -------- PASO 4: ESTADO INICIAL DE LAS PALABRAS --------\n",
        "estado_palabras = []\n",
        "\n",
        "for palabra in palabras:\n",
        "    x = random.randint(0, ancho)\n",
        "    y = random.randint(0, alto)\n",
        "    dx = random.uniform(-2, 2)\n",
        "    dy = random.uniform(-2, 2)\n",
        "    estado_palabras.append({'texto': palabra, 'x': x, 'y': y, 'dx': dx, 'dy': dy})\n",
        "\n",
        "# -------- PASO 5: GENERAR LOS FRAMES --------\n",
        "for frame in range(total_frames):\n",
        "    fig, ax = plt.subplots(figsize=(ancho / 100, alto / 100), dpi=100)\n",
        "    ax.set_facecolor(\"black\")\n",
        "    plt.xlim(0, ancho)\n",
        "    plt.ylim(0, alto)\n",
        "    plt.axis('off')  # ← AQUÍ ESTABA EL ERROR: ya corregido\n",
        "\n",
        "    for palabra in estado_palabras:\n",
        "        # Movimiento básico\n",
        "        palabra['x'] += palabra['dx']\n",
        "        palabra['y'] += palabra['dy']\n",
        "\n",
        "        # Rebote en bordes\n",
        "        if palabra['x'] < 0 or palabra['x'] > ancho:\n",
        "            palabra['dx'] *= -1\n",
        "        if palabra['y'] < 0 or palabra['y'] > alto:\n",
        "            palabra['dy'] *= -1\n",
        "\n",
        "        # Variación de tamaño\n",
        "        size = 14 + 6 * np.sin(np.pi * frame / total_frames)\n",
        "\n",
        "        # Dibujo del texto\n",
        "        ax.text(palabra['x'], palabra['y'], palabra['texto'], fontsize=size,\n",
        "                color='white', ha='center', va='center', alpha=0.85)\n",
        "\n",
        "    # Movimiento hacia el centro en los últimos 30% de frames\n",
        "    if frame > total_frames * 0.7:\n",
        "        for palabra in estado_palabras:\n",
        "            palabra['x'] += (ancho / 2 - palabra['x']) * 0.05\n",
        "            palabra['y'] += (alto / 2 - palabra['y']) * 0.05\n",
        "\n",
        "    # Guardar imagen con tamaño fijo\n",
        "    filename = os.path.join(frames_dir, f\"frame_{frame:03d}.png\")\n",
        "    plt.savefig(filename, facecolor='black')  # NO USAMOS bbox_inches\n",
        "    plt.close()\n",
        "\n",
        "# -------- PASO 6: CREAR EL VIDEO --------\n",
        "imagenes = [os.path.join(frames_dir, f\"frame_{i:03d}.png\") for i in range(total_frames)]\n",
        "clip = ImageSequenceClip(imagenes, fps=fps)\n",
        "clip.write_videofile(video_filename, codec='libx264')\n",
        "\n",
        "print(f\"\\n✅ VIDEO CREADO: {video_filename}\")\n"
      ],
      "metadata": {
        "colab": {
          "base_uri": "https://localhost:8080/"
        },
        "id": "fJeDpwUZY4oD",
        "outputId": "325cf802-cd93-4ca6-e7a3-99c8013a33aa"
      },
      "execution_count": 4,
      "outputs": [
        {
          "output_type": "stream",
          "name": "stdout",
          "text": [
            "Moviepy - Building video lluvia_palabras_cognitivas.mp4.\n",
            "Moviepy - Writing video lluvia_palabras_cognitivas.mp4\n",
            "\n"
          ]
        },
        {
          "output_type": "stream",
          "name": "stderr",
          "text": []
        },
        {
          "output_type": "stream",
          "name": "stdout",
          "text": [
            "Moviepy - Done !\n",
            "Moviepy - video ready lluvia_palabras_cognitivas.mp4\n",
            "\n",
            "✅ VIDEO CREADO: lluvia_palabras_cognitivas.mp4\n"
          ]
        }
      ]
    },
    {
      "cell_type": "code",
      "source": [
        "video_filename = \"lluvia_palabras_cognitivas.mp4\""
      ],
      "metadata": {
        "id": "fqxqdf7YZF0j"
      },
      "execution_count": 5,
      "outputs": []
    },
    {
      "cell_type": "code",
      "source": [
        "from google.colab import files\n",
        "files.download(video_filename)\n"
      ],
      "metadata": {
        "colab": {
          "base_uri": "https://localhost:8080/",
          "height": 17
        },
        "id": "6ePC0NzdZUGb",
        "outputId": "5b1399d9-502b-4792-9af9-4e33aa8433da"
      },
      "execution_count": 6,
      "outputs": [
        {
          "output_type": "display_data",
          "data": {
            "text/plain": [
              "<IPython.core.display.Javascript object>"
            ],
            "application/javascript": [
              "\n",
              "    async function download(id, filename, size) {\n",
              "      if (!google.colab.kernel.accessAllowed) {\n",
              "        return;\n",
              "      }\n",
              "      const div = document.createElement('div');\n",
              "      const label = document.createElement('label');\n",
              "      label.textContent = `Downloading \"${filename}\": `;\n",
              "      div.appendChild(label);\n",
              "      const progress = document.createElement('progress');\n",
              "      progress.max = size;\n",
              "      div.appendChild(progress);\n",
              "      document.body.appendChild(div);\n",
              "\n",
              "      const buffers = [];\n",
              "      let downloaded = 0;\n",
              "\n",
              "      const channel = await google.colab.kernel.comms.open(id);\n",
              "      // Send a message to notify the kernel that we're ready.\n",
              "      channel.send({})\n",
              "\n",
              "      for await (const message of channel.messages) {\n",
              "        // Send a message to notify the kernel that we're ready.\n",
              "        channel.send({})\n",
              "        if (message.buffers) {\n",
              "          for (const buffer of message.buffers) {\n",
              "            buffers.push(buffer);\n",
              "            downloaded += buffer.byteLength;\n",
              "            progress.value = downloaded;\n",
              "          }\n",
              "        }\n",
              "      }\n",
              "      const blob = new Blob(buffers, {type: 'application/binary'});\n",
              "      const a = document.createElement('a');\n",
              "      a.href = window.URL.createObjectURL(blob);\n",
              "      a.download = filename;\n",
              "      div.appendChild(a);\n",
              "      a.click();\n",
              "      div.remove();\n",
              "    }\n",
              "  "
            ]
          },
          "metadata": {}
        },
        {
          "output_type": "display_data",
          "data": {
            "text/plain": [
              "<IPython.core.display.Javascript object>"
            ],
            "application/javascript": [
              "download(\"download_718b9b03-2af7-4ae4-a2c3-2cf9f758e359\", \"lluvia_palabras_cognitivas.mp4\", 613647)"
            ]
          },
          "metadata": {}
        }
      ]
    },
    {
      "cell_type": "markdown",
      "source": [
        "✅ VERSIÓN CON COLORES LLAMATIVOS – CÓDIGO COMPLETO"
      ],
      "metadata": {
        "id": "xE3voYRqZvNC"
      }
    },
    {
      "cell_type": "code",
      "source": [
        "import os\n",
        "import numpy as np\n",
        "import matplotlib.pyplot as plt\n",
        "from moviepy.editor import ImageSequenceClip\n",
        "import random\n",
        "import shutil\n",
        "\n",
        "# -------- PARÁMETROS GENERALES --------\n",
        "palabras = [\n",
        "    \"Atención\", \"Percepción\", \"Memoria\", \"Lenguaje\", \"Pensamiento\", \"Aprendizaje\",\n",
        "    \"Razonamiento\", \"Codificación\", \"Recuperación\", \"Procesamiento\", \"Conciencia\",\n",
        "    \"Función Ejecutiva\", \"Inteligencia\", \"Abstracción\", \"Decisión\"\n",
        "]\n",
        "\n",
        "# Paleta de colores brillantes (puedes ampliar)\n",
        "colores = [\n",
        "    \"#FF5733\",  # rojo-naranja\n",
        "    \"#33FF57\",  # verde lima\n",
        "    \"#33C1FF\",  # cian\n",
        "    \"#F333FF\",  # fucsia\n",
        "    \"#FFD700\",  # dorado\n",
        "    \"#FF69B4\",  # rosa fuerte\n",
        "    \"#7CFC00\",  # verde neón\n",
        "    \"#00FFFF\",  # celeste eléctrico\n",
        "    \"#FFA500\",  # naranja\n",
        "    \"#DA70D6\",  # orquídea\n",
        "    \"#1E90FF\",  # azul brillante\n",
        "]\n",
        "\n",
        "# Resolución del video\n",
        "ancho = 1280\n",
        "alto = 720\n",
        "fps = 24\n",
        "duracion = 12  # segundos\n",
        "total_frames = fps * duracion\n",
        "\n",
        "frames_dir = \"frames_lluvia\"\n",
        "video_filename = \"lluvia_palabras_cognitivas.mp4\"\n",
        "\n",
        "# -------- LIMPIAR O CREAR LA CARPETA DE FRAMES --------\n",
        "if os.path.exists(frames_dir):\n",
        "    shutil.rmtree(frames_dir)\n",
        "os.makedirs(frames_dir)\n",
        "\n",
        "# -------- ESTADO INICIAL DE LAS PALABRAS (ahora con color) --------\n",
        "estado_palabras = []\n",
        "\n",
        "for palabra in palabras:\n",
        "    x = random.randint(0, ancho)\n",
        "    y = random.randint(0, alto)\n",
        "    dx = random.uniform(-2, 2)\n",
        "    dy = random.uniform(-2, 2)\n",
        "    color = random.choice(colores)  # ← color llamativo\n",
        "    estado_palabras.append({'texto': palabra, 'x': x, 'y': y, 'dx': dx, 'dy': dy, 'color': color})\n",
        "\n",
        "# -------- GENERAR FRAMES --------\n",
        "for frame in range(total_frames):\n",
        "    fig, ax = plt.subplots(figsize=(ancho / 100, alto / 100), dpi=100)\n",
        "    ax.set_facecolor(\"black\")\n",
        "    plt.xlim(0, ancho)\n",
        "    plt.ylim(0, alto)\n",
        "    plt.axis('off')\n",
        "\n",
        "    for palabra in estado_palabras:\n",
        "        palabra['x'] += palabra['dx']\n",
        "        palabra['y'] += palabra['dy']\n",
        "\n",
        "        # Rebote en bordes\n",
        "        if palabra['x'] < 0 or palabra['x'] > ancho:\n",
        "            palabra['dx'] *= -1\n",
        "        if palabra['y'] < 0 or palabra['y'] > alto:\n",
        "            palabra['dy'] *= -1\n",
        "\n",
        "        # Tamaño variable\n",
        "        size = 14 + 6 * np.sin(np.pi * frame / total_frames)\n",
        "\n",
        "        # Dibujar palabra con su color\n",
        "        ax.text(palabra['x'], palabra['y'], palabra['texto'], fontsize=size,\n",
        "                color=palabra['color'], ha='center', va='center', alpha=0.9)\n",
        "\n",
        "    # Movimiento hacia el centro en los últimos 30%\n",
        "    if frame > total_frames * 0.7:\n",
        "        for palabra in estado_palabras:\n",
        "            palabra['x'] += (ancho / 2 - palabra['x']) * 0.05\n",
        "            palabra['y'] += (alto / 2 - palabra['y']) * 0.05\n",
        "\n",
        "    filename = os.path.join(frames_dir, f\"frame_{frame:03d}.png\")\n",
        "    plt.savefig(filename, facecolor='black')\n",
        "    plt.close()\n",
        "\n",
        "# -------- CREAR VIDEO FINAL --------\n",
        "imagenes = [os.path.join(frames_dir, f\"frame_{i:03d}.png\") for i in range(total_frames)]\n",
        "clip = ImageSequenceClip(imagenes, fps=fps)\n",
        "clip.write_videofile(video_filename, codec='libx264')\n",
        "\n",
        "print(f\"\\n✅ VIDEO CREADO CON COLORES: {video_filename}\")\n"
      ],
      "metadata": {
        "colab": {
          "base_uri": "https://localhost:8080/"
        },
        "id": "Bt4Y0sXbZwvT",
        "outputId": "8860fb77-4493-420a-aef3-aee3fe33b949"
      },
      "execution_count": 7,
      "outputs": [
        {
          "output_type": "stream",
          "name": "stdout",
          "text": [
            "Moviepy - Building video lluvia_palabras_cognitivas.mp4.\n",
            "Moviepy - Writing video lluvia_palabras_cognitivas.mp4\n",
            "\n"
          ]
        },
        {
          "output_type": "stream",
          "name": "stderr",
          "text": []
        },
        {
          "output_type": "stream",
          "name": "stdout",
          "text": [
            "Moviepy - Done !\n",
            "Moviepy - video ready lluvia_palabras_cognitivas.mp4\n",
            "\n",
            "✅ VIDEO CREADO CON COLORES: lluvia_palabras_cognitivas.mp4\n"
          ]
        }
      ]
    },
    {
      "cell_type": "code",
      "source": [
        "video_filename = \"lluvia_palabras_cognitivas.mp4\""
      ],
      "metadata": {
        "id": "G45JUMSmaFAr"
      },
      "execution_count": 8,
      "outputs": []
    },
    {
      "cell_type": "code",
      "source": [
        "from google.colab import files\n",
        "files.download(video_filename)\n"
      ],
      "metadata": {
        "colab": {
          "base_uri": "https://localhost:8080/",
          "height": 17
        },
        "id": "MysSaPGYaHAj",
        "outputId": "d6d39e5a-687a-4473-a9e9-2dbed1e78827"
      },
      "execution_count": 9,
      "outputs": [
        {
          "output_type": "display_data",
          "data": {
            "text/plain": [
              "<IPython.core.display.Javascript object>"
            ],
            "application/javascript": [
              "\n",
              "    async function download(id, filename, size) {\n",
              "      if (!google.colab.kernel.accessAllowed) {\n",
              "        return;\n",
              "      }\n",
              "      const div = document.createElement('div');\n",
              "      const label = document.createElement('label');\n",
              "      label.textContent = `Downloading \"${filename}\": `;\n",
              "      div.appendChild(label);\n",
              "      const progress = document.createElement('progress');\n",
              "      progress.max = size;\n",
              "      div.appendChild(progress);\n",
              "      document.body.appendChild(div);\n",
              "\n",
              "      const buffers = [];\n",
              "      let downloaded = 0;\n",
              "\n",
              "      const channel = await google.colab.kernel.comms.open(id);\n",
              "      // Send a message to notify the kernel that we're ready.\n",
              "      channel.send({})\n",
              "\n",
              "      for await (const message of channel.messages) {\n",
              "        // Send a message to notify the kernel that we're ready.\n",
              "        channel.send({})\n",
              "        if (message.buffers) {\n",
              "          for (const buffer of message.buffers) {\n",
              "            buffers.push(buffer);\n",
              "            downloaded += buffer.byteLength;\n",
              "            progress.value = downloaded;\n",
              "          }\n",
              "        }\n",
              "      }\n",
              "      const blob = new Blob(buffers, {type: 'application/binary'});\n",
              "      const a = document.createElement('a');\n",
              "      a.href = window.URL.createObjectURL(blob);\n",
              "      a.download = filename;\n",
              "      div.appendChild(a);\n",
              "      a.click();\n",
              "      div.remove();\n",
              "    }\n",
              "  "
            ]
          },
          "metadata": {}
        },
        {
          "output_type": "display_data",
          "data": {
            "text/plain": [
              "<IPython.core.display.Javascript object>"
            ],
            "application/javascript": [
              "download(\"download_b1b33ad4-09d9-4154-b63e-aa4ded4b8c8f\", \"lluvia_palabras_cognitivas.mp4\", 900164)"
            ]
          },
          "metadata": {}
        }
      ]
    }
  ]
}