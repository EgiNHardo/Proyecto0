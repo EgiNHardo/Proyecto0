{
  "nbformat": 4,
  "nbformat_minor": 0,
  "metadata": {
    "colab": {
      "provenance": [],
      "authorship_tag": "ABX9TyNpuCVY4xyfPUZFZ56fMYgW",
      "include_colab_link": true
    },
    "kernelspec": {
      "name": "python3",
      "display_name": "Python 3"
    },
    "language_info": {
      "name": "python"
    }
  },
  "cells": [
    {
      "cell_type": "markdown",
      "metadata": {
        "id": "view-in-github",
        "colab_type": "text"
      },
      "source": [
        "<a href=\"https://colab.research.google.com/github/EgiNHardo/Proyecto0/blob/main/MapaMentalAnimadoSinSuperposicionNiEnunciados.ipynb\" target=\"_parent\"><img src=\"https://colab.research.google.com/assets/colab-badge.svg\" alt=\"Open In Colab\"/></a>"
      ]
    },
    {
      "cell_type": "markdown",
      "source": [
        "🧠CÓDIGO CORREGIDO PARA COLAB DEL MAPA MENTAL ANIMADO SIN SUPERPOSICIÓN NI ENUNCIADOS VISIBLES"
      ],
      "metadata": {
        "id": "WeAKwFwsMVEW"
      }
    },
    {
      "cell_type": "code",
      "execution_count": 1,
      "metadata": {
        "id": "m2Z0nhJvL1gh"
      },
      "outputs": [],
      "source": [
        "# Paso 1: Instalar Plotly\n",
        "!pip install plotly --quiet"
      ]
    },
    {
      "cell_type": "code",
      "source": [
        "# Paso 2: Importar librerías\n",
        "import plotly.graph_objects as go\n",
        "from google.colab import files"
      ],
      "metadata": {
        "id": "o9bz2aGVNCv9"
      },
      "execution_count": 2,
      "outputs": []
    },
    {
      "cell_type": "code",
      "source": [
        "# Paso 1: Instalar Plotly\n",
        "#           !pip install plotly --quiet\n",
        "\n",
        "# Paso 2: Importar librerías\n",
        "#           import plotly.graph_objects as go\n",
        "#           from google.colab import files\n",
        "\n",
        "# Paso 3: Nodos (textos solo para hover)\n",
        "nodos = [\n",
        "    \"Gestión emocional en educación superior\",      # 0\n",
        "    \"Neurobiología de las emociones\",               # 1\n",
        "    \"Factores psicosociales\",                       # 2\n",
        "    \"Manifestaciones clínicas\",                     # 3\n",
        "    \"Consecuencias académicas y personales\",        # 4\n",
        "    \"Sistema límbico: amígdala, hipocampo, ínsula\", # 5\n",
        "    \"Corteza prefrontal: regulación emocional\",     # 6\n",
        "    \"Eje HPA: estrés crónico, cortisol elevado\",    # 7\n",
        "    \"Atrofia cortical y neuroinflamación\",          # 8\n",
        "    \"Presión académica extrema\",                    # 9\n",
        "    \"Aislamiento institucional\",                    #10\n",
        "    \"Falta de red de apoyo\",                        #11\n",
        "    \"Déficit cognitivo: memoria, atención\",         #12\n",
        "    \"Síntomas emocionales: ansiedad, fatiga\",       #13\n",
        "    \"Conductas evitativas: procrastinación, abandono\", #14\n",
        "    \"Desmotivación profunda\",                       #15\n",
        "    \"Retiro de la universidad\",                     #16\n",
        "    \"Fracaso académico\"                             #17\n",
        "]\n",
        "\n",
        "# Paso 4: Conexiones entre nodos\n",
        "edges = [\n",
        "    (0, 1), (0, 2), (0, 3), (0, 4),\n",
        "    (1, 5), (1, 6), (1, 7), (1, 8),\n",
        "    (2, 9), (2,10), (2,11),\n",
        "    (3,12), (3,13), (3,14),\n",
        "    (4,15), (4,16), (4,17)\n",
        "]\n",
        "\n",
        "# Paso 5: Posiciones\n",
        "positions = {\n",
        "    0: (0.5, 1.0),\n",
        "    1: (0.15, 0.8), 2: (0.5, 0.8), 3: (0.85, 0.8), 4: (0.5, 0.65),\n",
        "    5: (0.05, 0.6), 6: (0.15, 0.55), 7: (0.25, 0.6), 8: (0.35, 0.55),\n",
        "    9: (0.4, 0.6), 10: (0.5, 0.55), 11: (0.6, 0.6),\n",
        "    12: (0.75, 0.6), 13: (0.85, 0.55), 14: (0.95, 0.6),\n",
        "    15: (0.35, 0.5), 16: (0.5, 0.5), 17: (0.65, 0.5)\n",
        "}\n",
        "\n",
        "# Paso 6: Dibujar líneas\n",
        "edge_x = []\n",
        "edge_y = []\n",
        "for src, dst in edges:\n",
        "    x0, y0 = positions[src]\n",
        "    x1, y1 = positions[dst]\n",
        "    edge_x.extend([x0, x1, None])\n",
        "    edge_y.extend([y0, y1, None])\n",
        "\n",
        "edge_trace = go.Scatter(\n",
        "    x=edge_x, y=edge_y,\n",
        "    line=dict(width=1, color='gray'),\n",
        "    hoverinfo='none',\n",
        "    mode='lines'\n",
        ")\n",
        "\n",
        "# Paso 7: Dibujar nodos (texto sólo en hover)\n",
        "node_x = []\n",
        "node_y = []\n",
        "for i in range(len(nodos)):\n",
        "    x, y = positions[i]\n",
        "    node_x.append(x)\n",
        "    node_y.append(y)\n",
        "\n",
        "node_trace = go.Scatter(\n",
        "    x=node_x, y=node_y,\n",
        "    mode='markers',\n",
        "    text=nodos,\n",
        "    hoverinfo='text',\n",
        "    marker=dict(\n",
        "        showscale=False,\n",
        "        color=['#1f77b4'] + ['#FF7F0E']*4 + ['#FFBB78']*3 + ['#98DF8A']*3 + ['#D62728']*3,\n",
        "        size=28,\n",
        "        line=dict(width=2, color='black')\n",
        "    )\n",
        ")\n",
        "\n",
        "# Paso 8: Crear figura con vista previa en Colab\n",
        "fig = go.Figure(data=[edge_trace, node_trace],\n",
        "    layout=go.Layout(\n",
        "        title=\"🌐 Mapa Mental Interactivo (solo texto al pasar mouse)\",\n",
        "        titlefont_size=20,\n",
        "        showlegend=False,\n",
        "        hovermode='closest',\n",
        "        margin=dict(b=20,l=5,r=5,t=40),\n",
        "        xaxis=dict(showgrid=False, zeroline=False, showticklabels=False),\n",
        "        yaxis=dict(showgrid=False, zeroline=False, showticklabels=False),\n",
        "        height=800\n",
        "    ))\n",
        "\n",
        "# Mostrar en Colab\n",
        "fig.show()\n",
        "\n",
        "# Paso 9: Guardar y descargar\n",
        "#           fig.write_html(\"mapa_mental_hover_only.html\")\n",
        "#           files.download(\"mapa_mental_hover_only.html\")\n"
      ],
      "metadata": {
        "colab": {
          "base_uri": "https://localhost:8080/",
          "height": 817
        },
        "id": "0gxJadWoNClV",
        "outputId": "b8fa9449-25e5-4166-819b-26305667a68b"
      },
      "execution_count": 4,
      "outputs": [
        {
          "output_type": "display_data",
          "data": {
            "text/html": [
              "<html>\n",
              "<head><meta charset=\"utf-8\" /></head>\n",
              "<body>\n",
              "    <div>            <script src=\"https://cdnjs.cloudflare.com/ajax/libs/mathjax/2.7.5/MathJax.js?config=TeX-AMS-MML_SVG\"></script><script type=\"text/javascript\">if (window.MathJax && window.MathJax.Hub && window.MathJax.Hub.Config) {window.MathJax.Hub.Config({SVG: {font: \"STIX-Web\"}});}</script>                <script type=\"text/javascript\">window.PlotlyConfig = {MathJaxConfig: 'local'};</script>\n",
              "        <script charset=\"utf-8\" src=\"https://cdn.plot.ly/plotly-2.35.2.min.js\"></script>                <div id=\"64209a07-8717-4e79-ab13-d3a648c57911\" class=\"plotly-graph-div\" style=\"height:800px; width:100%;\"></div>            <script type=\"text/javascript\">                                    window.PLOTLYENV=window.PLOTLYENV || {};                                    if (document.getElementById(\"64209a07-8717-4e79-ab13-d3a648c57911\")) {                    Plotly.newPlot(                        \"64209a07-8717-4e79-ab13-d3a648c57911\",                        [{\"hoverinfo\":\"none\",\"line\":{\"color\":\"gray\",\"width\":1},\"mode\":\"lines\",\"x\":[0.5,0.15,null,0.5,0.5,null,0.5,0.85,null,0.5,0.5,null,0.15,0.05,null,0.15,0.15,null,0.15,0.25,null,0.15,0.35,null,0.5,0.4,null,0.5,0.5,null,0.5,0.6,null,0.85,0.75,null,0.85,0.85,null,0.85,0.95,null,0.5,0.35,null,0.5,0.5,null,0.5,0.65,null],\"y\":[1.0,0.8,null,1.0,0.8,null,1.0,0.8,null,1.0,0.65,null,0.8,0.6,null,0.8,0.55,null,0.8,0.6,null,0.8,0.55,null,0.8,0.6,null,0.8,0.55,null,0.8,0.6,null,0.8,0.6,null,0.8,0.55,null,0.8,0.6,null,0.65,0.5,null,0.65,0.5,null,0.65,0.5,null],\"type\":\"scatter\"},{\"hoverinfo\":\"text\",\"marker\":{\"color\":[\"#1f77b4\",\"#FF7F0E\",\"#FF7F0E\",\"#FF7F0E\",\"#FF7F0E\",\"#FFBB78\",\"#FFBB78\",\"#FFBB78\",\"#98DF8A\",\"#98DF8A\",\"#98DF8A\",\"#D62728\",\"#D62728\",\"#D62728\"],\"line\":{\"color\":\"black\",\"width\":2},\"showscale\":false,\"size\":28},\"mode\":\"markers\",\"text\":[\"Gestión emocional en educación superior\",\"Neurobiología de las emociones\",\"Factores psicosociales\",\"Manifestaciones clínicas\",\"Consecuencias académicas y personales\",\"Sistema límbico: amígdala, hipocampo, ínsula\",\"Corteza prefrontal: regulación emocional\",\"Eje HPA: estrés crónico, cortisol elevado\",\"Atrofia cortical y neuroinflamación\",\"Presión académica extrema\",\"Aislamiento institucional\",\"Falta de red de apoyo\",\"Déficit cognitivo: memoria, atención\",\"Síntomas emocionales: ansiedad, fatiga\",\"Conductas evitativas: procrastinación, abandono\",\"Desmotivación profunda\",\"Retiro de la universidad\",\"Fracaso académico\"],\"x\":[0.5,0.15,0.5,0.85,0.5,0.05,0.15,0.25,0.35,0.4,0.5,0.6,0.75,0.85,0.95,0.35,0.5,0.65],\"y\":[1.0,0.8,0.8,0.8,0.65,0.6,0.55,0.6,0.55,0.6,0.55,0.6,0.6,0.55,0.6,0.5,0.5,0.5],\"type\":\"scatter\"}],                        {\"height\":800,\"hovermode\":\"closest\",\"margin\":{\"b\":20,\"l\":5,\"r\":5,\"t\":40},\"showlegend\":false,\"title\":{\"font\":{\"size\":20},\"text\":\"🌐 Mapa Mental Interactivo (solo texto al pasar mouse)\"},\"xaxis\":{\"showgrid\":false,\"showticklabels\":false,\"zeroline\":false},\"yaxis\":{\"showgrid\":false,\"showticklabels\":false,\"zeroline\":false},\"template\":{\"data\":{\"histogram2dcontour\":[{\"type\":\"histogram2dcontour\",\"colorbar\":{\"outlinewidth\":0,\"ticks\":\"\"},\"colorscale\":[[0.0,\"#0d0887\"],[0.1111111111111111,\"#46039f\"],[0.2222222222222222,\"#7201a8\"],[0.3333333333333333,\"#9c179e\"],[0.4444444444444444,\"#bd3786\"],[0.5555555555555556,\"#d8576b\"],[0.6666666666666666,\"#ed7953\"],[0.7777777777777778,\"#fb9f3a\"],[0.8888888888888888,\"#fdca26\"],[1.0,\"#f0f921\"]]}],\"choropleth\":[{\"type\":\"choropleth\",\"colorbar\":{\"outlinewidth\":0,\"ticks\":\"\"}}],\"histogram2d\":[{\"type\":\"histogram2d\",\"colorbar\":{\"outlinewidth\":0,\"ticks\":\"\"},\"colorscale\":[[0.0,\"#0d0887\"],[0.1111111111111111,\"#46039f\"],[0.2222222222222222,\"#7201a8\"],[0.3333333333333333,\"#9c179e\"],[0.4444444444444444,\"#bd3786\"],[0.5555555555555556,\"#d8576b\"],[0.6666666666666666,\"#ed7953\"],[0.7777777777777778,\"#fb9f3a\"],[0.8888888888888888,\"#fdca26\"],[1.0,\"#f0f921\"]]}],\"heatmap\":[{\"type\":\"heatmap\",\"colorbar\":{\"outlinewidth\":0,\"ticks\":\"\"},\"colorscale\":[[0.0,\"#0d0887\"],[0.1111111111111111,\"#46039f\"],[0.2222222222222222,\"#7201a8\"],[0.3333333333333333,\"#9c179e\"],[0.4444444444444444,\"#bd3786\"],[0.5555555555555556,\"#d8576b\"],[0.6666666666666666,\"#ed7953\"],[0.7777777777777778,\"#fb9f3a\"],[0.8888888888888888,\"#fdca26\"],[1.0,\"#f0f921\"]]}],\"heatmapgl\":[{\"type\":\"heatmapgl\",\"colorbar\":{\"outlinewidth\":0,\"ticks\":\"\"},\"colorscale\":[[0.0,\"#0d0887\"],[0.1111111111111111,\"#46039f\"],[0.2222222222222222,\"#7201a8\"],[0.3333333333333333,\"#9c179e\"],[0.4444444444444444,\"#bd3786\"],[0.5555555555555556,\"#d8576b\"],[0.6666666666666666,\"#ed7953\"],[0.7777777777777778,\"#fb9f3a\"],[0.8888888888888888,\"#fdca26\"],[1.0,\"#f0f921\"]]}],\"contourcarpet\":[{\"type\":\"contourcarpet\",\"colorbar\":{\"outlinewidth\":0,\"ticks\":\"\"}}],\"contour\":[{\"type\":\"contour\",\"colorbar\":{\"outlinewidth\":0,\"ticks\":\"\"},\"colorscale\":[[0.0,\"#0d0887\"],[0.1111111111111111,\"#46039f\"],[0.2222222222222222,\"#7201a8\"],[0.3333333333333333,\"#9c179e\"],[0.4444444444444444,\"#bd3786\"],[0.5555555555555556,\"#d8576b\"],[0.6666666666666666,\"#ed7953\"],[0.7777777777777778,\"#fb9f3a\"],[0.8888888888888888,\"#fdca26\"],[1.0,\"#f0f921\"]]}],\"surface\":[{\"type\":\"surface\",\"colorbar\":{\"outlinewidth\":0,\"ticks\":\"\"},\"colorscale\":[[0.0,\"#0d0887\"],[0.1111111111111111,\"#46039f\"],[0.2222222222222222,\"#7201a8\"],[0.3333333333333333,\"#9c179e\"],[0.4444444444444444,\"#bd3786\"],[0.5555555555555556,\"#d8576b\"],[0.6666666666666666,\"#ed7953\"],[0.7777777777777778,\"#fb9f3a\"],[0.8888888888888888,\"#fdca26\"],[1.0,\"#f0f921\"]]}],\"mesh3d\":[{\"type\":\"mesh3d\",\"colorbar\":{\"outlinewidth\":0,\"ticks\":\"\"}}],\"scatter\":[{\"fillpattern\":{\"fillmode\":\"overlay\",\"size\":10,\"solidity\":0.2},\"type\":\"scatter\"}],\"parcoords\":[{\"type\":\"parcoords\",\"line\":{\"colorbar\":{\"outlinewidth\":0,\"ticks\":\"\"}}}],\"scatterpolargl\":[{\"type\":\"scatterpolargl\",\"marker\":{\"colorbar\":{\"outlinewidth\":0,\"ticks\":\"\"}}}],\"bar\":[{\"error_x\":{\"color\":\"#2a3f5f\"},\"error_y\":{\"color\":\"#2a3f5f\"},\"marker\":{\"line\":{\"color\":\"#E5ECF6\",\"width\":0.5},\"pattern\":{\"fillmode\":\"overlay\",\"size\":10,\"solidity\":0.2}},\"type\":\"bar\"}],\"scattergeo\":[{\"type\":\"scattergeo\",\"marker\":{\"colorbar\":{\"outlinewidth\":0,\"ticks\":\"\"}}}],\"scatterpolar\":[{\"type\":\"scatterpolar\",\"marker\":{\"colorbar\":{\"outlinewidth\":0,\"ticks\":\"\"}}}],\"histogram\":[{\"marker\":{\"pattern\":{\"fillmode\":\"overlay\",\"size\":10,\"solidity\":0.2}},\"type\":\"histogram\"}],\"scattergl\":[{\"type\":\"scattergl\",\"marker\":{\"colorbar\":{\"outlinewidth\":0,\"ticks\":\"\"}}}],\"scatter3d\":[{\"type\":\"scatter3d\",\"line\":{\"colorbar\":{\"outlinewidth\":0,\"ticks\":\"\"}},\"marker\":{\"colorbar\":{\"outlinewidth\":0,\"ticks\":\"\"}}}],\"scattermapbox\":[{\"type\":\"scattermapbox\",\"marker\":{\"colorbar\":{\"outlinewidth\":0,\"ticks\":\"\"}}}],\"scatterternary\":[{\"type\":\"scatterternary\",\"marker\":{\"colorbar\":{\"outlinewidth\":0,\"ticks\":\"\"}}}],\"scattercarpet\":[{\"type\":\"scattercarpet\",\"marker\":{\"colorbar\":{\"outlinewidth\":0,\"ticks\":\"\"}}}],\"carpet\":[{\"aaxis\":{\"endlinecolor\":\"#2a3f5f\",\"gridcolor\":\"white\",\"linecolor\":\"white\",\"minorgridcolor\":\"white\",\"startlinecolor\":\"#2a3f5f\"},\"baxis\":{\"endlinecolor\":\"#2a3f5f\",\"gridcolor\":\"white\",\"linecolor\":\"white\",\"minorgridcolor\":\"white\",\"startlinecolor\":\"#2a3f5f\"},\"type\":\"carpet\"}],\"table\":[{\"cells\":{\"fill\":{\"color\":\"#EBF0F8\"},\"line\":{\"color\":\"white\"}},\"header\":{\"fill\":{\"color\":\"#C8D4E3\"},\"line\":{\"color\":\"white\"}},\"type\":\"table\"}],\"barpolar\":[{\"marker\":{\"line\":{\"color\":\"#E5ECF6\",\"width\":0.5},\"pattern\":{\"fillmode\":\"overlay\",\"size\":10,\"solidity\":0.2}},\"type\":\"barpolar\"}],\"pie\":[{\"automargin\":true,\"type\":\"pie\"}]},\"layout\":{\"autotypenumbers\":\"strict\",\"colorway\":[\"#636efa\",\"#EF553B\",\"#00cc96\",\"#ab63fa\",\"#FFA15A\",\"#19d3f3\",\"#FF6692\",\"#B6E880\",\"#FF97FF\",\"#FECB52\"],\"font\":{\"color\":\"#2a3f5f\"},\"hovermode\":\"closest\",\"hoverlabel\":{\"align\":\"left\"},\"paper_bgcolor\":\"white\",\"plot_bgcolor\":\"#E5ECF6\",\"polar\":{\"bgcolor\":\"#E5ECF6\",\"angularaxis\":{\"gridcolor\":\"white\",\"linecolor\":\"white\",\"ticks\":\"\"},\"radialaxis\":{\"gridcolor\":\"white\",\"linecolor\":\"white\",\"ticks\":\"\"}},\"ternary\":{\"bgcolor\":\"#E5ECF6\",\"aaxis\":{\"gridcolor\":\"white\",\"linecolor\":\"white\",\"ticks\":\"\"},\"baxis\":{\"gridcolor\":\"white\",\"linecolor\":\"white\",\"ticks\":\"\"},\"caxis\":{\"gridcolor\":\"white\",\"linecolor\":\"white\",\"ticks\":\"\"}},\"coloraxis\":{\"colorbar\":{\"outlinewidth\":0,\"ticks\":\"\"}},\"colorscale\":{\"sequential\":[[0.0,\"#0d0887\"],[0.1111111111111111,\"#46039f\"],[0.2222222222222222,\"#7201a8\"],[0.3333333333333333,\"#9c179e\"],[0.4444444444444444,\"#bd3786\"],[0.5555555555555556,\"#d8576b\"],[0.6666666666666666,\"#ed7953\"],[0.7777777777777778,\"#fb9f3a\"],[0.8888888888888888,\"#fdca26\"],[1.0,\"#f0f921\"]],\"sequentialminus\":[[0.0,\"#0d0887\"],[0.1111111111111111,\"#46039f\"],[0.2222222222222222,\"#7201a8\"],[0.3333333333333333,\"#9c179e\"],[0.4444444444444444,\"#bd3786\"],[0.5555555555555556,\"#d8576b\"],[0.6666666666666666,\"#ed7953\"],[0.7777777777777778,\"#fb9f3a\"],[0.8888888888888888,\"#fdca26\"],[1.0,\"#f0f921\"]],\"diverging\":[[0,\"#8e0152\"],[0.1,\"#c51b7d\"],[0.2,\"#de77ae\"],[0.3,\"#f1b6da\"],[0.4,\"#fde0ef\"],[0.5,\"#f7f7f7\"],[0.6,\"#e6f5d0\"],[0.7,\"#b8e186\"],[0.8,\"#7fbc41\"],[0.9,\"#4d9221\"],[1,\"#276419\"]]},\"xaxis\":{\"gridcolor\":\"white\",\"linecolor\":\"white\",\"ticks\":\"\",\"title\":{\"standoff\":15},\"zerolinecolor\":\"white\",\"automargin\":true,\"zerolinewidth\":2},\"yaxis\":{\"gridcolor\":\"white\",\"linecolor\":\"white\",\"ticks\":\"\",\"title\":{\"standoff\":15},\"zerolinecolor\":\"white\",\"automargin\":true,\"zerolinewidth\":2},\"scene\":{\"xaxis\":{\"backgroundcolor\":\"#E5ECF6\",\"gridcolor\":\"white\",\"linecolor\":\"white\",\"showbackground\":true,\"ticks\":\"\",\"zerolinecolor\":\"white\",\"gridwidth\":2},\"yaxis\":{\"backgroundcolor\":\"#E5ECF6\",\"gridcolor\":\"white\",\"linecolor\":\"white\",\"showbackground\":true,\"ticks\":\"\",\"zerolinecolor\":\"white\",\"gridwidth\":2},\"zaxis\":{\"backgroundcolor\":\"#E5ECF6\",\"gridcolor\":\"white\",\"linecolor\":\"white\",\"showbackground\":true,\"ticks\":\"\",\"zerolinecolor\":\"white\",\"gridwidth\":2}},\"shapedefaults\":{\"line\":{\"color\":\"#2a3f5f\"}},\"annotationdefaults\":{\"arrowcolor\":\"#2a3f5f\",\"arrowhead\":0,\"arrowwidth\":1},\"geo\":{\"bgcolor\":\"white\",\"landcolor\":\"#E5ECF6\",\"subunitcolor\":\"white\",\"showland\":true,\"showlakes\":true,\"lakecolor\":\"white\"},\"title\":{\"x\":0.05},\"mapbox\":{\"style\":\"light\"}}}},                        {\"responsive\": true}                    ).then(function(){\n",
              "                            \n",
              "var gd = document.getElementById('64209a07-8717-4e79-ab13-d3a648c57911');\n",
              "var x = new MutationObserver(function (mutations, observer) {{\n",
              "        var display = window.getComputedStyle(gd).display;\n",
              "        if (!display || display === 'none') {{\n",
              "            console.log([gd, 'removed!']);\n",
              "            Plotly.purge(gd);\n",
              "            observer.disconnect();\n",
              "        }}\n",
              "}});\n",
              "\n",
              "// Listen for the removal of the full notebook cells\n",
              "var notebookContainer = gd.closest('#notebook-container');\n",
              "if (notebookContainer) {{\n",
              "    x.observe(notebookContainer, {childList: true});\n",
              "}}\n",
              "\n",
              "// Listen for the clearing of the current output cell\n",
              "var outputEl = gd.closest('.output');\n",
              "if (outputEl) {{\n",
              "    x.observe(outputEl, {childList: true});\n",
              "}}\n",
              "\n",
              "                        })                };                            </script>        </div>\n",
              "</body>\n",
              "</html>"
            ]
          },
          "metadata": {}
        }
      ]
    },
    {
      "cell_type": "code",
      "source": [
        "# Paso 9: Guardar y descargar\n",
        "fig.write_html(\"mapa_mental_hover_only.html\")\n",
        "files.download(\"mapa_mental_hover_only.html\")"
      ],
      "metadata": {
        "id": "9mcs510cNCet"
      },
      "execution_count": null,
      "outputs": []
    },
    {
      "cell_type": "markdown",
      "source": [
        "🧠 CÓDIGO AJUSTADO (Donde se incluye el fragmento de color corregido)"
      ],
      "metadata": {
        "id": "NLg4yfKhP0SW"
      }
    },
    {
      "cell_type": "code",
      "source": [
        "# Paso 1: Instalar Plotly\n",
        "!pip install plotly --quiet"
      ],
      "metadata": {
        "id": "l_eg04lFNCVW"
      },
      "execution_count": 5,
      "outputs": []
    },
    {
      "cell_type": "code",
      "source": [
        "# Paso 2: Importar librerías\n",
        "import plotly.graph_objects as go\n",
        "from google.colab import files"
      ],
      "metadata": {
        "id": "v_4-sIGAQLxG"
      },
      "execution_count": 6,
      "outputs": []
    },
    {
      "cell_type": "code",
      "source": [
        "# Paso 1: Instalar Plotly\n",
        "#                 !pip install plotly --quiet\n",
        "\n",
        "# Paso 2: Importar librerías\n",
        "#                 import plotly.graph_objects as go\n",
        "#                 from google.colab import files\n",
        "\n",
        "# Paso 3: Nombres de nodos (texto solo en hover)\n",
        "nodos = [\n",
        "    \"Gestión emocional en educación superior\",      # 0\n",
        "    \"Neurobiología de las emociones\",               # 1\n",
        "    \"Factores psicosociales\",                       # 2\n",
        "    \"Manifestaciones clínicas\",                     # 3\n",
        "    \"Consecuencias académicas y personales\",        # 4\n",
        "    \"Sistema límbico: amígdala, hipocampo, ínsula\", # 5\n",
        "    \"Corteza prefrontal: regulación emocional\",     # 6\n",
        "    \"Eje HPA: estrés crónico, cortisol elevado\",    # 7\n",
        "    \"Atrofia cortical y neuroinflamación\",          # 8\n",
        "    \"Presión académica extrema\",                    # 9\n",
        "    \"Aislamiento institucional\",                    #10\n",
        "    \"Falta de red de apoyo\",                        #11\n",
        "    \"Déficit cognitivo: memoria, atención\",         #12\n",
        "    \"Síntomas emocionales: ansiedad, fatiga\",       #13\n",
        "    \"Conductas evitativas: procrastinación, abandono\", #14\n",
        "    \"Desmotivación profunda\",                       #15\n",
        "    \"Retiro de la universidad\",                     #16\n",
        "    \"Fracaso académico\"                             #17\n",
        "]\n",
        "\n",
        "# Paso 4: Conexiones entre nodos (padre -> hijo)\n",
        "edges = [\n",
        "    (0, 1), (0, 2), (0, 3), (0, 4),\n",
        "    (1, 5), (1, 6), (1, 7), (1, 8),\n",
        "    (2, 9), (2,10), (2,11),\n",
        "    (3,12), (3,13), (3,14),\n",
        "    (4,15), (4,16), (4,17)\n",
        "]\n",
        "\n",
        "# Paso 5: Posiciones (ajustadas para evitar superposición)\n",
        "positions = {\n",
        "    0: (0.5, 1.0),\n",
        "    1: (0.15, 0.8), 2: (0.5, 0.8), 3: (0.85, 0.8), 4: (0.5, 0.65),\n",
        "    5: (0.05, 0.6), 6: (0.15, 0.55), 7: (0.25, 0.6), 8: (0.35, 0.55),\n",
        "    9: (0.4, 0.6), 10: (0.5, 0.55), 11: (0.6, 0.6),\n",
        "    12: (0.75, 0.6), 13: (0.85, 0.55), 14: (0.95, 0.6),\n",
        "    15: (0.35, 0.5), 16: (0.5, 0.5), 17: (0.65, 0.5)\n",
        "}\n",
        "\n",
        "# Paso 6: Aristas (líneas de conexión)\n",
        "edge_x = []\n",
        "edge_y = []\n",
        "for src, dst in edges:\n",
        "    x0, y0 = positions[src]\n",
        "    x1, y1 = positions[dst]\n",
        "    edge_x.extend([x0, x1, None])\n",
        "    edge_y.extend([y0, y1, None])\n",
        "\n",
        "edge_trace = go.Scatter(\n",
        "    x=edge_x, y=edge_y,\n",
        "    line=dict(width=1, color='gray'),\n",
        "    hoverinfo='none',\n",
        "    mode='lines'\n",
        ")\n",
        "\n",
        "# Paso 7: Posiciones de nodos\n",
        "node_x = []\n",
        "node_y = []\n",
        "for i in range(len(nodos)):\n",
        "    x, y = positions[i]\n",
        "    node_x.append(x)\n",
        "    node_y.append(y)\n",
        "\n",
        "# Paso 8: Colores según niveles/categorías\n",
        "colores_nodos = [\n",
        "    '#1f77b4',     # 0 - Nodo central\n",
        "    '#FF7F0E',     # 1\n",
        "    '#FF7F0E',     # 2\n",
        "    '#FF7F0E',     # 3\n",
        "    '#FF7F0E',     # 4\n",
        "    '#FFBB78',     # 5 - Detalles neurobiológicos\n",
        "    '#FFBB78',     # 6\n",
        "    '#FFBB78',     # 7\n",
        "    '#FFBB78',     # 8\n",
        "    '#98DF8A',     # 9 - Factores psicosociales\n",
        "    '#98DF8A',     #10\n",
        "    '#98DF8A',     #11\n",
        "    '#AEC7E8',     #12 - Manifestaciones clínicas\n",
        "    '#AEC7E8',     #13\n",
        "    '#AEC7E8',     #14\n",
        "    '#D62728',     #15 - Consecuencias personales\n",
        "    '#D62728',     #16\n",
        "    '#D62728'      #17\n",
        "]\n",
        "\n",
        "# Paso 9: Nodo interactivo (hover solamente)\n",
        "node_trace = go.Scatter(\n",
        "    x=node_x, y=node_y,\n",
        "    mode='markers',\n",
        "    text=nodos,\n",
        "    hoverinfo='text',\n",
        "    marker=dict(\n",
        "        showscale=False,\n",
        "        color=colores_nodos,\n",
        "        size=28,\n",
        "        line=dict(width=2, color='black')\n",
        "    )\n",
        ")\n",
        "\n",
        "# Paso 10: Figura interactiva con vista previa\n",
        "fig = go.Figure(data=[edge_trace, node_trace],\n",
        "    layout=go.Layout(\n",
        "        title=\"🌐 Mapa Mental Interactivo (hover y colores por nivel)\",\n",
        "        titlefont_size=20,\n",
        "        showlegend=False,\n",
        "        hovermode='closest',\n",
        "        margin=dict(b=20,l=5,r=5,t=40),\n",
        "        xaxis=dict(showgrid=False, zeroline=False, showticklabels=False),\n",
        "        yaxis=dict(showgrid=False, zeroline=False, showticklabels=False),\n",
        "        height=800\n",
        "    ))\n",
        "\n",
        "# Paso 11: Mostrar previsualización en Colab\n",
        "fig.show()\n",
        "\n",
        "# Paso 12: Guardar como HTML y descargar\n",
        "#                 fig.write_html(\"mapa_mental_coloreado_hover.html\")\n",
        "#                 files.download(\"mapa_mental_coloreado_hover.html\")\n"
      ],
      "metadata": {
        "colab": {
          "base_uri": "https://localhost:8080/",
          "height": 817
        },
        "id": "IXIyD9mbQLil",
        "outputId": "94826114-fdc2-4fca-a43e-b97c2062bb67"
      },
      "execution_count": 9,
      "outputs": [
        {
          "output_type": "display_data",
          "data": {
            "text/html": [
              "<html>\n",
              "<head><meta charset=\"utf-8\" /></head>\n",
              "<body>\n",
              "    <div>            <script src=\"https://cdnjs.cloudflare.com/ajax/libs/mathjax/2.7.5/MathJax.js?config=TeX-AMS-MML_SVG\"></script><script type=\"text/javascript\">if (window.MathJax && window.MathJax.Hub && window.MathJax.Hub.Config) {window.MathJax.Hub.Config({SVG: {font: \"STIX-Web\"}});}</script>                <script type=\"text/javascript\">window.PlotlyConfig = {MathJaxConfig: 'local'};</script>\n",
              "        <script charset=\"utf-8\" src=\"https://cdn.plot.ly/plotly-2.35.2.min.js\"></script>                <div id=\"f00d412e-fa90-4f3d-9db6-4e22d766eac8\" class=\"plotly-graph-div\" style=\"height:800px; width:100%;\"></div>            <script type=\"text/javascript\">                                    window.PLOTLYENV=window.PLOTLYENV || {};                                    if (document.getElementById(\"f00d412e-fa90-4f3d-9db6-4e22d766eac8\")) {                    Plotly.newPlot(                        \"f00d412e-fa90-4f3d-9db6-4e22d766eac8\",                        [{\"hoverinfo\":\"none\",\"line\":{\"color\":\"gray\",\"width\":1},\"mode\":\"lines\",\"x\":[0.5,0.15,null,0.5,0.5,null,0.5,0.85,null,0.5,0.5,null,0.15,0.05,null,0.15,0.15,null,0.15,0.25,null,0.15,0.35,null,0.5,0.4,null,0.5,0.5,null,0.5,0.6,null,0.85,0.75,null,0.85,0.85,null,0.85,0.95,null,0.5,0.35,null,0.5,0.5,null,0.5,0.65,null],\"y\":[1.0,0.8,null,1.0,0.8,null,1.0,0.8,null,1.0,0.65,null,0.8,0.6,null,0.8,0.55,null,0.8,0.6,null,0.8,0.55,null,0.8,0.6,null,0.8,0.55,null,0.8,0.6,null,0.8,0.6,null,0.8,0.55,null,0.8,0.6,null,0.65,0.5,null,0.65,0.5,null,0.65,0.5,null],\"type\":\"scatter\"},{\"hoverinfo\":\"text\",\"marker\":{\"color\":[\"#1f77b4\",\"#FF7F0E\",\"#FF7F0E\",\"#FF7F0E\",\"#FF7F0E\",\"#FFBB78\",\"#FFBB78\",\"#FFBB78\",\"#FFBB78\",\"#98DF8A\",\"#98DF8A\",\"#98DF8A\",\"#AEC7E8\",\"#AEC7E8\",\"#AEC7E8\",\"#D62728\",\"#D62728\",\"#D62728\"],\"line\":{\"color\":\"black\",\"width\":2},\"showscale\":false,\"size\":28},\"mode\":\"markers\",\"text\":[\"Gestión emocional en educación superior\",\"Neurobiología de las emociones\",\"Factores psicosociales\",\"Manifestaciones clínicas\",\"Consecuencias académicas y personales\",\"Sistema límbico: amígdala, hipocampo, ínsula\",\"Corteza prefrontal: regulación emocional\",\"Eje HPA: estrés crónico, cortisol elevado\",\"Atrofia cortical y neuroinflamación\",\"Presión académica extrema\",\"Aislamiento institucional\",\"Falta de red de apoyo\",\"Déficit cognitivo: memoria, atención\",\"Síntomas emocionales: ansiedad, fatiga\",\"Conductas evitativas: procrastinación, abandono\",\"Desmotivación profunda\",\"Retiro de la universidad\",\"Fracaso académico\"],\"x\":[0.5,0.15,0.5,0.85,0.5,0.05,0.15,0.25,0.35,0.4,0.5,0.6,0.75,0.85,0.95,0.35,0.5,0.65],\"y\":[1.0,0.8,0.8,0.8,0.65,0.6,0.55,0.6,0.55,0.6,0.55,0.6,0.6,0.55,0.6,0.5,0.5,0.5],\"type\":\"scatter\"}],                        {\"height\":800,\"hovermode\":\"closest\",\"margin\":{\"b\":20,\"l\":5,\"r\":5,\"t\":40},\"showlegend\":false,\"title\":{\"font\":{\"size\":20},\"text\":\"🌐 Mapa Mental Interactivo (hover y colores por nivel)\"},\"xaxis\":{\"showgrid\":false,\"showticklabels\":false,\"zeroline\":false},\"yaxis\":{\"showgrid\":false,\"showticklabels\":false,\"zeroline\":false},\"template\":{\"data\":{\"histogram2dcontour\":[{\"type\":\"histogram2dcontour\",\"colorbar\":{\"outlinewidth\":0,\"ticks\":\"\"},\"colorscale\":[[0.0,\"#0d0887\"],[0.1111111111111111,\"#46039f\"],[0.2222222222222222,\"#7201a8\"],[0.3333333333333333,\"#9c179e\"],[0.4444444444444444,\"#bd3786\"],[0.5555555555555556,\"#d8576b\"],[0.6666666666666666,\"#ed7953\"],[0.7777777777777778,\"#fb9f3a\"],[0.8888888888888888,\"#fdca26\"],[1.0,\"#f0f921\"]]}],\"choropleth\":[{\"type\":\"choropleth\",\"colorbar\":{\"outlinewidth\":0,\"ticks\":\"\"}}],\"histogram2d\":[{\"type\":\"histogram2d\",\"colorbar\":{\"outlinewidth\":0,\"ticks\":\"\"},\"colorscale\":[[0.0,\"#0d0887\"],[0.1111111111111111,\"#46039f\"],[0.2222222222222222,\"#7201a8\"],[0.3333333333333333,\"#9c179e\"],[0.4444444444444444,\"#bd3786\"],[0.5555555555555556,\"#d8576b\"],[0.6666666666666666,\"#ed7953\"],[0.7777777777777778,\"#fb9f3a\"],[0.8888888888888888,\"#fdca26\"],[1.0,\"#f0f921\"]]}],\"heatmap\":[{\"type\":\"heatmap\",\"colorbar\":{\"outlinewidth\":0,\"ticks\":\"\"},\"colorscale\":[[0.0,\"#0d0887\"],[0.1111111111111111,\"#46039f\"],[0.2222222222222222,\"#7201a8\"],[0.3333333333333333,\"#9c179e\"],[0.4444444444444444,\"#bd3786\"],[0.5555555555555556,\"#d8576b\"],[0.6666666666666666,\"#ed7953\"],[0.7777777777777778,\"#fb9f3a\"],[0.8888888888888888,\"#fdca26\"],[1.0,\"#f0f921\"]]}],\"heatmapgl\":[{\"type\":\"heatmapgl\",\"colorbar\":{\"outlinewidth\":0,\"ticks\":\"\"},\"colorscale\":[[0.0,\"#0d0887\"],[0.1111111111111111,\"#46039f\"],[0.2222222222222222,\"#7201a8\"],[0.3333333333333333,\"#9c179e\"],[0.4444444444444444,\"#bd3786\"],[0.5555555555555556,\"#d8576b\"],[0.6666666666666666,\"#ed7953\"],[0.7777777777777778,\"#fb9f3a\"],[0.8888888888888888,\"#fdca26\"],[1.0,\"#f0f921\"]]}],\"contourcarpet\":[{\"type\":\"contourcarpet\",\"colorbar\":{\"outlinewidth\":0,\"ticks\":\"\"}}],\"contour\":[{\"type\":\"contour\",\"colorbar\":{\"outlinewidth\":0,\"ticks\":\"\"},\"colorscale\":[[0.0,\"#0d0887\"],[0.1111111111111111,\"#46039f\"],[0.2222222222222222,\"#7201a8\"],[0.3333333333333333,\"#9c179e\"],[0.4444444444444444,\"#bd3786\"],[0.5555555555555556,\"#d8576b\"],[0.6666666666666666,\"#ed7953\"],[0.7777777777777778,\"#fb9f3a\"],[0.8888888888888888,\"#fdca26\"],[1.0,\"#f0f921\"]]}],\"surface\":[{\"type\":\"surface\",\"colorbar\":{\"outlinewidth\":0,\"ticks\":\"\"},\"colorscale\":[[0.0,\"#0d0887\"],[0.1111111111111111,\"#46039f\"],[0.2222222222222222,\"#7201a8\"],[0.3333333333333333,\"#9c179e\"],[0.4444444444444444,\"#bd3786\"],[0.5555555555555556,\"#d8576b\"],[0.6666666666666666,\"#ed7953\"],[0.7777777777777778,\"#fb9f3a\"],[0.8888888888888888,\"#fdca26\"],[1.0,\"#f0f921\"]]}],\"mesh3d\":[{\"type\":\"mesh3d\",\"colorbar\":{\"outlinewidth\":0,\"ticks\":\"\"}}],\"scatter\":[{\"fillpattern\":{\"fillmode\":\"overlay\",\"size\":10,\"solidity\":0.2},\"type\":\"scatter\"}],\"parcoords\":[{\"type\":\"parcoords\",\"line\":{\"colorbar\":{\"outlinewidth\":0,\"ticks\":\"\"}}}],\"scatterpolargl\":[{\"type\":\"scatterpolargl\",\"marker\":{\"colorbar\":{\"outlinewidth\":0,\"ticks\":\"\"}}}],\"bar\":[{\"error_x\":{\"color\":\"#2a3f5f\"},\"error_y\":{\"color\":\"#2a3f5f\"},\"marker\":{\"line\":{\"color\":\"#E5ECF6\",\"width\":0.5},\"pattern\":{\"fillmode\":\"overlay\",\"size\":10,\"solidity\":0.2}},\"type\":\"bar\"}],\"scattergeo\":[{\"type\":\"scattergeo\",\"marker\":{\"colorbar\":{\"outlinewidth\":0,\"ticks\":\"\"}}}],\"scatterpolar\":[{\"type\":\"scatterpolar\",\"marker\":{\"colorbar\":{\"outlinewidth\":0,\"ticks\":\"\"}}}],\"histogram\":[{\"marker\":{\"pattern\":{\"fillmode\":\"overlay\",\"size\":10,\"solidity\":0.2}},\"type\":\"histogram\"}],\"scattergl\":[{\"type\":\"scattergl\",\"marker\":{\"colorbar\":{\"outlinewidth\":0,\"ticks\":\"\"}}}],\"scatter3d\":[{\"type\":\"scatter3d\",\"line\":{\"colorbar\":{\"outlinewidth\":0,\"ticks\":\"\"}},\"marker\":{\"colorbar\":{\"outlinewidth\":0,\"ticks\":\"\"}}}],\"scattermapbox\":[{\"type\":\"scattermapbox\",\"marker\":{\"colorbar\":{\"outlinewidth\":0,\"ticks\":\"\"}}}],\"scatterternary\":[{\"type\":\"scatterternary\",\"marker\":{\"colorbar\":{\"outlinewidth\":0,\"ticks\":\"\"}}}],\"scattercarpet\":[{\"type\":\"scattercarpet\",\"marker\":{\"colorbar\":{\"outlinewidth\":0,\"ticks\":\"\"}}}],\"carpet\":[{\"aaxis\":{\"endlinecolor\":\"#2a3f5f\",\"gridcolor\":\"white\",\"linecolor\":\"white\",\"minorgridcolor\":\"white\",\"startlinecolor\":\"#2a3f5f\"},\"baxis\":{\"endlinecolor\":\"#2a3f5f\",\"gridcolor\":\"white\",\"linecolor\":\"white\",\"minorgridcolor\":\"white\",\"startlinecolor\":\"#2a3f5f\"},\"type\":\"carpet\"}],\"table\":[{\"cells\":{\"fill\":{\"color\":\"#EBF0F8\"},\"line\":{\"color\":\"white\"}},\"header\":{\"fill\":{\"color\":\"#C8D4E3\"},\"line\":{\"color\":\"white\"}},\"type\":\"table\"}],\"barpolar\":[{\"marker\":{\"line\":{\"color\":\"#E5ECF6\",\"width\":0.5},\"pattern\":{\"fillmode\":\"overlay\",\"size\":10,\"solidity\":0.2}},\"type\":\"barpolar\"}],\"pie\":[{\"automargin\":true,\"type\":\"pie\"}]},\"layout\":{\"autotypenumbers\":\"strict\",\"colorway\":[\"#636efa\",\"#EF553B\",\"#00cc96\",\"#ab63fa\",\"#FFA15A\",\"#19d3f3\",\"#FF6692\",\"#B6E880\",\"#FF97FF\",\"#FECB52\"],\"font\":{\"color\":\"#2a3f5f\"},\"hovermode\":\"closest\",\"hoverlabel\":{\"align\":\"left\"},\"paper_bgcolor\":\"white\",\"plot_bgcolor\":\"#E5ECF6\",\"polar\":{\"bgcolor\":\"#E5ECF6\",\"angularaxis\":{\"gridcolor\":\"white\",\"linecolor\":\"white\",\"ticks\":\"\"},\"radialaxis\":{\"gridcolor\":\"white\",\"linecolor\":\"white\",\"ticks\":\"\"}},\"ternary\":{\"bgcolor\":\"#E5ECF6\",\"aaxis\":{\"gridcolor\":\"white\",\"linecolor\":\"white\",\"ticks\":\"\"},\"baxis\":{\"gridcolor\":\"white\",\"linecolor\":\"white\",\"ticks\":\"\"},\"caxis\":{\"gridcolor\":\"white\",\"linecolor\":\"white\",\"ticks\":\"\"}},\"coloraxis\":{\"colorbar\":{\"outlinewidth\":0,\"ticks\":\"\"}},\"colorscale\":{\"sequential\":[[0.0,\"#0d0887\"],[0.1111111111111111,\"#46039f\"],[0.2222222222222222,\"#7201a8\"],[0.3333333333333333,\"#9c179e\"],[0.4444444444444444,\"#bd3786\"],[0.5555555555555556,\"#d8576b\"],[0.6666666666666666,\"#ed7953\"],[0.7777777777777778,\"#fb9f3a\"],[0.8888888888888888,\"#fdca26\"],[1.0,\"#f0f921\"]],\"sequentialminus\":[[0.0,\"#0d0887\"],[0.1111111111111111,\"#46039f\"],[0.2222222222222222,\"#7201a8\"],[0.3333333333333333,\"#9c179e\"],[0.4444444444444444,\"#bd3786\"],[0.5555555555555556,\"#d8576b\"],[0.6666666666666666,\"#ed7953\"],[0.7777777777777778,\"#fb9f3a\"],[0.8888888888888888,\"#fdca26\"],[1.0,\"#f0f921\"]],\"diverging\":[[0,\"#8e0152\"],[0.1,\"#c51b7d\"],[0.2,\"#de77ae\"],[0.3,\"#f1b6da\"],[0.4,\"#fde0ef\"],[0.5,\"#f7f7f7\"],[0.6,\"#e6f5d0\"],[0.7,\"#b8e186\"],[0.8,\"#7fbc41\"],[0.9,\"#4d9221\"],[1,\"#276419\"]]},\"xaxis\":{\"gridcolor\":\"white\",\"linecolor\":\"white\",\"ticks\":\"\",\"title\":{\"standoff\":15},\"zerolinecolor\":\"white\",\"automargin\":true,\"zerolinewidth\":2},\"yaxis\":{\"gridcolor\":\"white\",\"linecolor\":\"white\",\"ticks\":\"\",\"title\":{\"standoff\":15},\"zerolinecolor\":\"white\",\"automargin\":true,\"zerolinewidth\":2},\"scene\":{\"xaxis\":{\"backgroundcolor\":\"#E5ECF6\",\"gridcolor\":\"white\",\"linecolor\":\"white\",\"showbackground\":true,\"ticks\":\"\",\"zerolinecolor\":\"white\",\"gridwidth\":2},\"yaxis\":{\"backgroundcolor\":\"#E5ECF6\",\"gridcolor\":\"white\",\"linecolor\":\"white\",\"showbackground\":true,\"ticks\":\"\",\"zerolinecolor\":\"white\",\"gridwidth\":2},\"zaxis\":{\"backgroundcolor\":\"#E5ECF6\",\"gridcolor\":\"white\",\"linecolor\":\"white\",\"showbackground\":true,\"ticks\":\"\",\"zerolinecolor\":\"white\",\"gridwidth\":2}},\"shapedefaults\":{\"line\":{\"color\":\"#2a3f5f\"}},\"annotationdefaults\":{\"arrowcolor\":\"#2a3f5f\",\"arrowhead\":0,\"arrowwidth\":1},\"geo\":{\"bgcolor\":\"white\",\"landcolor\":\"#E5ECF6\",\"subunitcolor\":\"white\",\"showland\":true,\"showlakes\":true,\"lakecolor\":\"white\"},\"title\":{\"x\":0.05},\"mapbox\":{\"style\":\"light\"}}}},                        {\"responsive\": true}                    ).then(function(){\n",
              "                            \n",
              "var gd = document.getElementById('f00d412e-fa90-4f3d-9db6-4e22d766eac8');\n",
              "var x = new MutationObserver(function (mutations, observer) {{\n",
              "        var display = window.getComputedStyle(gd).display;\n",
              "        if (!display || display === 'none') {{\n",
              "            console.log([gd, 'removed!']);\n",
              "            Plotly.purge(gd);\n",
              "            observer.disconnect();\n",
              "        }}\n",
              "}});\n",
              "\n",
              "// Listen for the removal of the full notebook cells\n",
              "var notebookContainer = gd.closest('#notebook-container');\n",
              "if (notebookContainer) {{\n",
              "    x.observe(notebookContainer, {childList: true});\n",
              "}}\n",
              "\n",
              "// Listen for the clearing of the current output cell\n",
              "var outputEl = gd.closest('.output');\n",
              "if (outputEl) {{\n",
              "    x.observe(outputEl, {childList: true});\n",
              "}}\n",
              "\n",
              "                        })                };                            </script>        </div>\n",
              "</body>\n",
              "</html>"
            ]
          },
          "metadata": {}
        }
      ]
    },
    {
      "cell_type": "code",
      "source": [
        "# Paso 12: Guardar como HTML y descargar\n",
        "fig.write_html(\"mapa_mental_coloreado_hover.html\")\n",
        "files.download(\"mapa_mental_coloreado_hover.html\")\n"
      ],
      "metadata": {
        "colab": {
          "base_uri": "https://localhost:8080/",
          "height": 17
        },
        "id": "GDDaADeuQLCN",
        "outputId": "adc0695c-f8d7-48d5-ac84-285ac6489144"
      },
      "execution_count": 8,
      "outputs": [
        {
          "output_type": "display_data",
          "data": {
            "text/plain": [
              "<IPython.core.display.Javascript object>"
            ],
            "application/javascript": [
              "\n",
              "    async function download(id, filename, size) {\n",
              "      if (!google.colab.kernel.accessAllowed) {\n",
              "        return;\n",
              "      }\n",
              "      const div = document.createElement('div');\n",
              "      const label = document.createElement('label');\n",
              "      label.textContent = `Downloading \"${filename}\": `;\n",
              "      div.appendChild(label);\n",
              "      const progress = document.createElement('progress');\n",
              "      progress.max = size;\n",
              "      div.appendChild(progress);\n",
              "      document.body.appendChild(div);\n",
              "\n",
              "      const buffers = [];\n",
              "      let downloaded = 0;\n",
              "\n",
              "      const channel = await google.colab.kernel.comms.open(id);\n",
              "      // Send a message to notify the kernel that we're ready.\n",
              "      channel.send({})\n",
              "\n",
              "      for await (const message of channel.messages) {\n",
              "        // Send a message to notify the kernel that we're ready.\n",
              "        channel.send({})\n",
              "        if (message.buffers) {\n",
              "          for (const buffer of message.buffers) {\n",
              "            buffers.push(buffer);\n",
              "            downloaded += buffer.byteLength;\n",
              "            progress.value = downloaded;\n",
              "          }\n",
              "        }\n",
              "      }\n",
              "      const blob = new Blob(buffers, {type: 'application/binary'});\n",
              "      const a = document.createElement('a');\n",
              "      a.href = window.URL.createObjectURL(blob);\n",
              "      a.download = filename;\n",
              "      div.appendChild(a);\n",
              "      a.click();\n",
              "      div.remove();\n",
              "    }\n",
              "  "
            ]
          },
          "metadata": {}
        },
        {
          "output_type": "display_data",
          "data": {
            "text/plain": [
              "<IPython.core.display.Javascript object>"
            ],
            "application/javascript": [
              "download(\"download_96aa3769-05de-4b90-99a3-8962eb2c4ed8\", \"mapa_mental_coloreado_hover.html\", 4568508)"
            ]
          },
          "metadata": {}
        }
      ]
    }
  ]
}