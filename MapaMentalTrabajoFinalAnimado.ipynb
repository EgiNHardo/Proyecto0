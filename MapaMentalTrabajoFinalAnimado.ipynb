{
  "nbformat": 4,
  "nbformat_minor": 0,
  "metadata": {
    "colab": {
      "provenance": [],
      "authorship_tag": "ABX9TyPKIOTX8ygv5Zbx/w9xQwun",
      "include_colab_link": true
    },
    "kernelspec": {
      "name": "python3",
      "display_name": "Python 3"
    },
    "language_info": {
      "name": "python"
    }
  },
  "cells": [
    {
      "cell_type": "markdown",
      "metadata": {
        "id": "view-in-github",
        "colab_type": "text"
      },
      "source": [
        "<a href=\"https://colab.research.google.com/github/EgiNHardo/Proyecto0/blob/main/MapaMentalTrabajoFinalAnimado.ipynb\" target=\"_parent\"><img src=\"https://colab.research.google.com/assets/colab-badge.svg\" alt=\"Open In Colab\"/></a>"
      ]
    },
    {
      "cell_type": "code",
      "source": [
        "# Paso 1: Instalar plotly si no lo tienes\n",
        "!pip install plotly"
      ],
      "metadata": {
        "colab": {
          "base_uri": "https://localhost:8080/"
        },
        "id": "fmZvD_yHzaxb",
        "outputId": "fe717c3f-81d6-47d1-ee14-2e9170984976"
      },
      "execution_count": 1,
      "outputs": [
        {
          "output_type": "stream",
          "name": "stdout",
          "text": [
            "Requirement already satisfied: plotly in /usr/local/lib/python3.11/dist-packages (5.24.1)\n",
            "Requirement already satisfied: tenacity>=6.2.0 in /usr/local/lib/python3.11/dist-packages (from plotly) (8.5.0)\n",
            "Requirement already satisfied: packaging in /usr/local/lib/python3.11/dist-packages (from plotly) (24.2)\n"
          ]
        }
      ]
    },
    {
      "cell_type": "code",
      "source": [
        "# Paso 2: Importar librerías necesarias\n",
        "import plotly.graph_objects as go"
      ],
      "metadata": {
        "id": "YPXMnYhNzac9"
      },
      "execution_count": 3,
      "outputs": []
    },
    {
      "cell_type": "code",
      "execution_count": 4,
      "metadata": {
        "colab": {
          "base_uri": "https://localhost:8080/",
          "height": 717
        },
        "id": "lLsR4ARfzIGs",
        "outputId": "5b11fee6-ddd4-43e1-f0f6-ce8edf5a0463"
      },
      "outputs": [
        {
          "output_type": "display_data",
          "data": {
            "text/html": [
              "<html>\n",
              "<head><meta charset=\"utf-8\" /></head>\n",
              "<body>\n",
              "    <div>            <script src=\"https://cdnjs.cloudflare.com/ajax/libs/mathjax/2.7.5/MathJax.js?config=TeX-AMS-MML_SVG\"></script><script type=\"text/javascript\">if (window.MathJax && window.MathJax.Hub && window.MathJax.Hub.Config) {window.MathJax.Hub.Config({SVG: {font: \"STIX-Web\"}});}</script>                <script type=\"text/javascript\">window.PlotlyConfig = {MathJaxConfig: 'local'};</script>\n",
              "        <script charset=\"utf-8\" src=\"https://cdn.plot.ly/plotly-2.35.2.min.js\"></script>                <div id=\"e0432ccc-a5d5-4f8f-8288-71a60599253e\" class=\"plotly-graph-div\" style=\"height:700px; width:100%;\"></div>            <script type=\"text/javascript\">                                    window.PLOTLYENV=window.PLOTLYENV || {};                                    if (document.getElementById(\"e0432ccc-a5d5-4f8f-8288-71a60599253e\")) {                    Plotly.newPlot(                        \"e0432ccc-a5d5-4f8f-8288-71a60599253e\",                        [{\"hoverinfo\":\"none\",\"line\":{\"color\":\"gray\",\"width\":1},\"mode\":\"lines\",\"x\":[0.5,0.2,null,0.5,0.5,null,0.5,0.8,null,0.5,0.5,null,0.2,0.1,null,0.2,0.2,null,0.2,0.3,null,0.2,0.4,null,0.5,0.4,null,0.5,0.5,null,0.5,0.6,null,0.8,0.7,null,0.8,0.8,null,0.8,0.9,null,0.5,0.35,null,0.5,0.5,null,0.5,0.65,null],\"y\":[1.0,0.8,null,1.0,0.8,null,1.0,0.8,null,1.0,0.6,null,0.8,0.6,null,0.8,0.6,null,0.8,0.6,null,0.8,0.6,null,0.8,0.65,null,0.8,0.65,null,0.8,0.65,null,0.8,0.6,null,0.8,0.6,null,0.8,0.6,null,0.6,0.4,null,0.6,0.4,null,0.6,0.4,null],\"type\":\"scatter\"},{\"hoverinfo\":\"text\",\"marker\":{\"color\":[\"#1f77b4\",\"#FF7F0E\",\"#FF7F0E\",\"#FF7F0E\",\"#FF7F0E\",\"#FFBB78\",\"#FFBB78\",\"#FFBB78\",\"#FFBB78\",\"#98DF8A\",\"#98DF8A\",\"#98DF8A\",\"#AEC7E8\",\"#AEC7E8\",\"#AEC7E8\",\"#D62728\",\"#D62728\",\"#D62728\"],\"line\":{\"color\":\"black\",\"width\":2},\"showscale\":false,\"size\":30},\"mode\":\"markers+text\",\"text\":[\"Gestión emocional en educación superior\",\"Neurobiología de las emociones\",\"Factores psicosociales\",\"Manifestaciones clínicas\",\"Consecuencias académicas y personales\",\"Sistema límbico: amígdala, hipocampo, ínsula\",\"Corteza prefrontal: regulación emocional\",\"Eje HPA: estrés crónico, cortisol elevado\",\"Atrofia cortical y neuroinflamación\",\"Presión académica extrema\",\"Aislamiento institucional\",\"Falta de red de apoyo\",\"Déficit cognitivo: memoria, atención\",\"Síntomas emocionales: ansiedad, fatiga\",\"Conductas evitativas: procrastinación, abandono\",\"Desmotivación profunda\",\"Retiro del posgrado\",\"Fracaso académico\"],\"textposition\":\"top center\",\"x\":[0.5,0.2,0.5,0.8,0.5,0.1,0.2,0.3,0.4,0.4,0.5,0.6,0.7,0.8,0.9,0.35,0.5,0.65],\"y\":[1.0,0.8,0.8,0.8,0.6,0.6,0.6,0.6,0.6,0.65,0.65,0.65,0.6,0.6,0.6,0.4,0.4,0.4],\"type\":\"scatter\"}],                        {\"height\":700,\"hovermode\":\"closest\",\"margin\":{\"b\":20,\"l\":5,\"r\":5,\"t\":40},\"showlegend\":false,\"title\":{\"font\":{\"size\":20},\"text\":\"🌐 Mapa Mental Interactivo: Gestión emocional en el posgrado\"},\"xaxis\":{\"showgrid\":false,\"showticklabels\":false,\"zeroline\":false},\"yaxis\":{\"showgrid\":false,\"showticklabels\":false,\"zeroline\":false},\"template\":{\"data\":{\"histogram2dcontour\":[{\"type\":\"histogram2dcontour\",\"colorbar\":{\"outlinewidth\":0,\"ticks\":\"\"},\"colorscale\":[[0.0,\"#0d0887\"],[0.1111111111111111,\"#46039f\"],[0.2222222222222222,\"#7201a8\"],[0.3333333333333333,\"#9c179e\"],[0.4444444444444444,\"#bd3786\"],[0.5555555555555556,\"#d8576b\"],[0.6666666666666666,\"#ed7953\"],[0.7777777777777778,\"#fb9f3a\"],[0.8888888888888888,\"#fdca26\"],[1.0,\"#f0f921\"]]}],\"choropleth\":[{\"type\":\"choropleth\",\"colorbar\":{\"outlinewidth\":0,\"ticks\":\"\"}}],\"histogram2d\":[{\"type\":\"histogram2d\",\"colorbar\":{\"outlinewidth\":0,\"ticks\":\"\"},\"colorscale\":[[0.0,\"#0d0887\"],[0.1111111111111111,\"#46039f\"],[0.2222222222222222,\"#7201a8\"],[0.3333333333333333,\"#9c179e\"],[0.4444444444444444,\"#bd3786\"],[0.5555555555555556,\"#d8576b\"],[0.6666666666666666,\"#ed7953\"],[0.7777777777777778,\"#fb9f3a\"],[0.8888888888888888,\"#fdca26\"],[1.0,\"#f0f921\"]]}],\"heatmap\":[{\"type\":\"heatmap\",\"colorbar\":{\"outlinewidth\":0,\"ticks\":\"\"},\"colorscale\":[[0.0,\"#0d0887\"],[0.1111111111111111,\"#46039f\"],[0.2222222222222222,\"#7201a8\"],[0.3333333333333333,\"#9c179e\"],[0.4444444444444444,\"#bd3786\"],[0.5555555555555556,\"#d8576b\"],[0.6666666666666666,\"#ed7953\"],[0.7777777777777778,\"#fb9f3a\"],[0.8888888888888888,\"#fdca26\"],[1.0,\"#f0f921\"]]}],\"heatmapgl\":[{\"type\":\"heatmapgl\",\"colorbar\":{\"outlinewidth\":0,\"ticks\":\"\"},\"colorscale\":[[0.0,\"#0d0887\"],[0.1111111111111111,\"#46039f\"],[0.2222222222222222,\"#7201a8\"],[0.3333333333333333,\"#9c179e\"],[0.4444444444444444,\"#bd3786\"],[0.5555555555555556,\"#d8576b\"],[0.6666666666666666,\"#ed7953\"],[0.7777777777777778,\"#fb9f3a\"],[0.8888888888888888,\"#fdca26\"],[1.0,\"#f0f921\"]]}],\"contourcarpet\":[{\"type\":\"contourcarpet\",\"colorbar\":{\"outlinewidth\":0,\"ticks\":\"\"}}],\"contour\":[{\"type\":\"contour\",\"colorbar\":{\"outlinewidth\":0,\"ticks\":\"\"},\"colorscale\":[[0.0,\"#0d0887\"],[0.1111111111111111,\"#46039f\"],[0.2222222222222222,\"#7201a8\"],[0.3333333333333333,\"#9c179e\"],[0.4444444444444444,\"#bd3786\"],[0.5555555555555556,\"#d8576b\"],[0.6666666666666666,\"#ed7953\"],[0.7777777777777778,\"#fb9f3a\"],[0.8888888888888888,\"#fdca26\"],[1.0,\"#f0f921\"]]}],\"surface\":[{\"type\":\"surface\",\"colorbar\":{\"outlinewidth\":0,\"ticks\":\"\"},\"colorscale\":[[0.0,\"#0d0887\"],[0.1111111111111111,\"#46039f\"],[0.2222222222222222,\"#7201a8\"],[0.3333333333333333,\"#9c179e\"],[0.4444444444444444,\"#bd3786\"],[0.5555555555555556,\"#d8576b\"],[0.6666666666666666,\"#ed7953\"],[0.7777777777777778,\"#fb9f3a\"],[0.8888888888888888,\"#fdca26\"],[1.0,\"#f0f921\"]]}],\"mesh3d\":[{\"type\":\"mesh3d\",\"colorbar\":{\"outlinewidth\":0,\"ticks\":\"\"}}],\"scatter\":[{\"fillpattern\":{\"fillmode\":\"overlay\",\"size\":10,\"solidity\":0.2},\"type\":\"scatter\"}],\"parcoords\":[{\"type\":\"parcoords\",\"line\":{\"colorbar\":{\"outlinewidth\":0,\"ticks\":\"\"}}}],\"scatterpolargl\":[{\"type\":\"scatterpolargl\",\"marker\":{\"colorbar\":{\"outlinewidth\":0,\"ticks\":\"\"}}}],\"bar\":[{\"error_x\":{\"color\":\"#2a3f5f\"},\"error_y\":{\"color\":\"#2a3f5f\"},\"marker\":{\"line\":{\"color\":\"#E5ECF6\",\"width\":0.5},\"pattern\":{\"fillmode\":\"overlay\",\"size\":10,\"solidity\":0.2}},\"type\":\"bar\"}],\"scattergeo\":[{\"type\":\"scattergeo\",\"marker\":{\"colorbar\":{\"outlinewidth\":0,\"ticks\":\"\"}}}],\"scatterpolar\":[{\"type\":\"scatterpolar\",\"marker\":{\"colorbar\":{\"outlinewidth\":0,\"ticks\":\"\"}}}],\"histogram\":[{\"marker\":{\"pattern\":{\"fillmode\":\"overlay\",\"size\":10,\"solidity\":0.2}},\"type\":\"histogram\"}],\"scattergl\":[{\"type\":\"scattergl\",\"marker\":{\"colorbar\":{\"outlinewidth\":0,\"ticks\":\"\"}}}],\"scatter3d\":[{\"type\":\"scatter3d\",\"line\":{\"colorbar\":{\"outlinewidth\":0,\"ticks\":\"\"}},\"marker\":{\"colorbar\":{\"outlinewidth\":0,\"ticks\":\"\"}}}],\"scattermapbox\":[{\"type\":\"scattermapbox\",\"marker\":{\"colorbar\":{\"outlinewidth\":0,\"ticks\":\"\"}}}],\"scatterternary\":[{\"type\":\"scatterternary\",\"marker\":{\"colorbar\":{\"outlinewidth\":0,\"ticks\":\"\"}}}],\"scattercarpet\":[{\"type\":\"scattercarpet\",\"marker\":{\"colorbar\":{\"outlinewidth\":0,\"ticks\":\"\"}}}],\"carpet\":[{\"aaxis\":{\"endlinecolor\":\"#2a3f5f\",\"gridcolor\":\"white\",\"linecolor\":\"white\",\"minorgridcolor\":\"white\",\"startlinecolor\":\"#2a3f5f\"},\"baxis\":{\"endlinecolor\":\"#2a3f5f\",\"gridcolor\":\"white\",\"linecolor\":\"white\",\"minorgridcolor\":\"white\",\"startlinecolor\":\"#2a3f5f\"},\"type\":\"carpet\"}],\"table\":[{\"cells\":{\"fill\":{\"color\":\"#EBF0F8\"},\"line\":{\"color\":\"white\"}},\"header\":{\"fill\":{\"color\":\"#C8D4E3\"},\"line\":{\"color\":\"white\"}},\"type\":\"table\"}],\"barpolar\":[{\"marker\":{\"line\":{\"color\":\"#E5ECF6\",\"width\":0.5},\"pattern\":{\"fillmode\":\"overlay\",\"size\":10,\"solidity\":0.2}},\"type\":\"barpolar\"}],\"pie\":[{\"automargin\":true,\"type\":\"pie\"}]},\"layout\":{\"autotypenumbers\":\"strict\",\"colorway\":[\"#636efa\",\"#EF553B\",\"#00cc96\",\"#ab63fa\",\"#FFA15A\",\"#19d3f3\",\"#FF6692\",\"#B6E880\",\"#FF97FF\",\"#FECB52\"],\"font\":{\"color\":\"#2a3f5f\"},\"hovermode\":\"closest\",\"hoverlabel\":{\"align\":\"left\"},\"paper_bgcolor\":\"white\",\"plot_bgcolor\":\"#E5ECF6\",\"polar\":{\"bgcolor\":\"#E5ECF6\",\"angularaxis\":{\"gridcolor\":\"white\",\"linecolor\":\"white\",\"ticks\":\"\"},\"radialaxis\":{\"gridcolor\":\"white\",\"linecolor\":\"white\",\"ticks\":\"\"}},\"ternary\":{\"bgcolor\":\"#E5ECF6\",\"aaxis\":{\"gridcolor\":\"white\",\"linecolor\":\"white\",\"ticks\":\"\"},\"baxis\":{\"gridcolor\":\"white\",\"linecolor\":\"white\",\"ticks\":\"\"},\"caxis\":{\"gridcolor\":\"white\",\"linecolor\":\"white\",\"ticks\":\"\"}},\"coloraxis\":{\"colorbar\":{\"outlinewidth\":0,\"ticks\":\"\"}},\"colorscale\":{\"sequential\":[[0.0,\"#0d0887\"],[0.1111111111111111,\"#46039f\"],[0.2222222222222222,\"#7201a8\"],[0.3333333333333333,\"#9c179e\"],[0.4444444444444444,\"#bd3786\"],[0.5555555555555556,\"#d8576b\"],[0.6666666666666666,\"#ed7953\"],[0.7777777777777778,\"#fb9f3a\"],[0.8888888888888888,\"#fdca26\"],[1.0,\"#f0f921\"]],\"sequentialminus\":[[0.0,\"#0d0887\"],[0.1111111111111111,\"#46039f\"],[0.2222222222222222,\"#7201a8\"],[0.3333333333333333,\"#9c179e\"],[0.4444444444444444,\"#bd3786\"],[0.5555555555555556,\"#d8576b\"],[0.6666666666666666,\"#ed7953\"],[0.7777777777777778,\"#fb9f3a\"],[0.8888888888888888,\"#fdca26\"],[1.0,\"#f0f921\"]],\"diverging\":[[0,\"#8e0152\"],[0.1,\"#c51b7d\"],[0.2,\"#de77ae\"],[0.3,\"#f1b6da\"],[0.4,\"#fde0ef\"],[0.5,\"#f7f7f7\"],[0.6,\"#e6f5d0\"],[0.7,\"#b8e186\"],[0.8,\"#7fbc41\"],[0.9,\"#4d9221\"],[1,\"#276419\"]]},\"xaxis\":{\"gridcolor\":\"white\",\"linecolor\":\"white\",\"ticks\":\"\",\"title\":{\"standoff\":15},\"zerolinecolor\":\"white\",\"automargin\":true,\"zerolinewidth\":2},\"yaxis\":{\"gridcolor\":\"white\",\"linecolor\":\"white\",\"ticks\":\"\",\"title\":{\"standoff\":15},\"zerolinecolor\":\"white\",\"automargin\":true,\"zerolinewidth\":2},\"scene\":{\"xaxis\":{\"backgroundcolor\":\"#E5ECF6\",\"gridcolor\":\"white\",\"linecolor\":\"white\",\"showbackground\":true,\"ticks\":\"\",\"zerolinecolor\":\"white\",\"gridwidth\":2},\"yaxis\":{\"backgroundcolor\":\"#E5ECF6\",\"gridcolor\":\"white\",\"linecolor\":\"white\",\"showbackground\":true,\"ticks\":\"\",\"zerolinecolor\":\"white\",\"gridwidth\":2},\"zaxis\":{\"backgroundcolor\":\"#E5ECF6\",\"gridcolor\":\"white\",\"linecolor\":\"white\",\"showbackground\":true,\"ticks\":\"\",\"zerolinecolor\":\"white\",\"gridwidth\":2}},\"shapedefaults\":{\"line\":{\"color\":\"#2a3f5f\"}},\"annotationdefaults\":{\"arrowcolor\":\"#2a3f5f\",\"arrowhead\":0,\"arrowwidth\":1},\"geo\":{\"bgcolor\":\"white\",\"landcolor\":\"#E5ECF6\",\"subunitcolor\":\"white\",\"showland\":true,\"showlakes\":true,\"lakecolor\":\"white\"},\"title\":{\"x\":0.05},\"mapbox\":{\"style\":\"light\"}}}},                        {\"responsive\": true}                    ).then(function(){\n",
              "                            \n",
              "var gd = document.getElementById('e0432ccc-a5d5-4f8f-8288-71a60599253e');\n",
              "var x = new MutationObserver(function (mutations, observer) {{\n",
              "        var display = window.getComputedStyle(gd).display;\n",
              "        if (!display || display === 'none') {{\n",
              "            console.log([gd, 'removed!']);\n",
              "            Plotly.purge(gd);\n",
              "            observer.disconnect();\n",
              "        }}\n",
              "}});\n",
              "\n",
              "// Listen for the removal of the full notebook cells\n",
              "var notebookContainer = gd.closest('#notebook-container');\n",
              "if (notebookContainer) {{\n",
              "    x.observe(notebookContainer, {childList: true});\n",
              "}}\n",
              "\n",
              "// Listen for the clearing of the current output cell\n",
              "var outputEl = gd.closest('.output');\n",
              "if (outputEl) {{\n",
              "    x.observe(outputEl, {childList: true});\n",
              "}}\n",
              "\n",
              "                        })                };                            </script>        </div>\n",
              "</body>\n",
              "</html>"
            ]
          },
          "metadata": {}
        }
      ],
      "source": [
        "# Paso 3: Definir los nodos y conexiones\n",
        "nodos = [\n",
        "    \"Gestión emocional en educación superior\",  # 0\n",
        "    \"Neurobiología de las emociones\",           # 1\n",
        "    \"Factores psicosociales\",                   # 2\n",
        "    \"Manifestaciones clínicas\",                 # 3\n",
        "    \"Consecuencias académicas y personales\",    # 4\n",
        "    \"Sistema límbico: amígdala, hipocampo, ínsula\",  # 5\n",
        "    \"Corteza prefrontal: regulación emocional\",      # 6\n",
        "    \"Eje HPA: estrés crónico, cortisol elevado\",     # 7\n",
        "    \"Atrofia cortical y neuroinflamación\",           # 8\n",
        "    \"Presión académica extrema\",                     # 9\n",
        "    \"Aislamiento institucional\",                     #10\n",
        "    \"Falta de red de apoyo\",                         #11\n",
        "    \"Déficit cognitivo: memoria, atención\",          #12\n",
        "    \"Síntomas emocionales: ansiedad, fatiga\",        #13\n",
        "    \"Conductas evitativas: procrastinación, abandono\",#14\n",
        "    \"Desmotivación profunda\",                        #15\n",
        "    \"Retiro del posgrado\",                           #16\n",
        "    \"Fracaso académico\"                              #17\n",
        "]\n",
        "\n",
        "# Conexiones entre nodos (padre -> hijo)\n",
        "edges = [\n",
        "    (0, 1), (0, 2), (0, 3), (0, 4),\n",
        "    (1, 5), (1, 6), (1, 7), (1, 8),\n",
        "    (2, 9), (2,10), (2,11),\n",
        "    (3,12), (3,13), (3,14),\n",
        "    (4,15), (4,16), (4,17)\n",
        "]\n",
        "\n",
        "# Paso 4: Posicionar nodos manualmente (x, y)\n",
        "positions = {\n",
        "    0: (0.5, 1.0),   # Nodo raíz\n",
        "    1: (0.2, 0.8), 2: (0.5, 0.8), 3: (0.8, 0.8), 4: (0.5, 0.6),\n",
        "    5: (0.1, 0.6), 6: (0.2, 0.6), 7: (0.3, 0.6), 8: (0.4, 0.6),\n",
        "    9: (0.4, 0.65), 10: (0.5, 0.65), 11: (0.6, 0.65),\n",
        "    12: (0.7, 0.6), 13: (0.8, 0.6), 14: (0.9, 0.6),\n",
        "    15: (0.35, 0.4), 16: (0.5, 0.4), 17: (0.65, 0.4)\n",
        "}\n",
        "\n",
        "# Paso 5: Dibujar conexiones\n",
        "edge_x = []\n",
        "edge_y = []\n",
        "for src, dst in edges:\n",
        "    x0, y0 = positions[src]\n",
        "    x1, y1 = positions[dst]\n",
        "    edge_x.extend([x0, x1, None])\n",
        "    edge_y.extend([y0, y1, None])\n",
        "\n",
        "edge_trace = go.Scatter(\n",
        "    x=edge_x, y=edge_y,\n",
        "    line=dict(width=1, color='gray'),\n",
        "    hoverinfo='none',\n",
        "    mode='lines'\n",
        ")\n",
        "\n",
        "# Paso 6: Dibujar nodos\n",
        "node_x = []\n",
        "node_y = []\n",
        "textos = []\n",
        "for i, label in enumerate(nodos):\n",
        "    x, y = positions[i]\n",
        "    node_x.append(x)\n",
        "    node_y.append(y)\n",
        "    textos.append(label)\n",
        "\n",
        "node_trace = go.Scatter(\n",
        "    x=node_x, y=node_y,\n",
        "    mode='markers+text',\n",
        "    text=textos,\n",
        "    textposition='top center',\n",
        "    hoverinfo='text',\n",
        "    marker=dict(\n",
        "        showscale=False,\n",
        "        color=['#1f77b4'] + ['#FF7F0E']*4 + ['#FFBB78']*4 + ['#98DF8A']*3 + ['#AEC7E8']*3 + ['#D62728']*3,\n",
        "        size=30,\n",
        "        line=dict(width=2, color='black')\n",
        "    )\n",
        ")\n",
        "\n",
        "# Paso 7: Layout interactivo\n",
        "fig = go.Figure(data=[edge_trace, node_trace],\n",
        "                layout=go.Layout(\n",
        "                    title=\"🌐 Mapa Mental Interactivo: Gestión emocional en el posgrado\",\n",
        "                    titlefont_size=20,\n",
        "                    showlegend=False,\n",
        "                    hovermode='closest',\n",
        "                    margin=dict(b=20,l=5,r=5,t=40),\n",
        "                    xaxis=dict(showgrid=False, zeroline=False, showticklabels=False),\n",
        "                    yaxis=dict(showgrid=False, zeroline=False, showticklabels=False),\n",
        "                    height=700\n",
        "                ))\n",
        "\n",
        "fig.show()\n"
      ]
    },
    {
      "cell_type": "markdown",
      "source": [
        "📥 Código para guardar y descargar el resultado interactivo"
      ],
      "metadata": {
        "id": "XD-qwhNf2WgE"
      }
    },
    {
      "cell_type": "code",
      "source": [
        "# Guardar el gráfico como archivo HTML interactivo\n",
        "fig.write_html(\"mapa_mental_interactivo.html\")\n",
        "\n",
        "# Descargar el archivo desde Colab\n",
        "from google.colab import files\n",
        "files.download(\"mapa_mental_interactivo.html\")\n",
        "\n"
      ],
      "metadata": {
        "colab": {
          "base_uri": "https://localhost:8080/",
          "height": 17
        },
        "id": "9p-AKQAO19Az",
        "outputId": "94cf96fd-4a81-4240-93cf-4f383aaa8485"
      },
      "execution_count": 5,
      "outputs": [
        {
          "output_type": "display_data",
          "data": {
            "text/plain": [
              "<IPython.core.display.Javascript object>"
            ],
            "application/javascript": [
              "\n",
              "    async function download(id, filename, size) {\n",
              "      if (!google.colab.kernel.accessAllowed) {\n",
              "        return;\n",
              "      }\n",
              "      const div = document.createElement('div');\n",
              "      const label = document.createElement('label');\n",
              "      label.textContent = `Downloading \"${filename}\": `;\n",
              "      div.appendChild(label);\n",
              "      const progress = document.createElement('progress');\n",
              "      progress.max = size;\n",
              "      div.appendChild(progress);\n",
              "      document.body.appendChild(div);\n",
              "\n",
              "      const buffers = [];\n",
              "      let downloaded = 0;\n",
              "\n",
              "      const channel = await google.colab.kernel.comms.open(id);\n",
              "      // Send a message to notify the kernel that we're ready.\n",
              "      channel.send({})\n",
              "\n",
              "      for await (const message of channel.messages) {\n",
              "        // Send a message to notify the kernel that we're ready.\n",
              "        channel.send({})\n",
              "        if (message.buffers) {\n",
              "          for (const buffer of message.buffers) {\n",
              "            buffers.push(buffer);\n",
              "            downloaded += buffer.byteLength;\n",
              "            progress.value = downloaded;\n",
              "          }\n",
              "        }\n",
              "      }\n",
              "      const blob = new Blob(buffers, {type: 'application/binary'});\n",
              "      const a = document.createElement('a');\n",
              "      a.href = window.URL.createObjectURL(blob);\n",
              "      a.download = filename;\n",
              "      div.appendChild(a);\n",
              "      a.click();\n",
              "      div.remove();\n",
              "    }\n",
              "  "
            ]
          },
          "metadata": {}
        },
        {
          "output_type": "display_data",
          "data": {
            "text/plain": [
              "<IPython.core.display.Javascript object>"
            ],
            "application/javascript": [
              "download(\"download_0a594f3b-b437-47fc-9d24-0bbda815eb02\", \"mapa_mental_interactivo.html\", 4568516)"
            ]
          },
          "metadata": {}
        }
      ]
    },
    {
      "cell_type": "markdown",
      "source": [
        "✅ CÓDIGO COMPLETO PARA GOOGLE COLAB SIN SUPERPOSICIÓN"
      ],
      "metadata": {
        "id": "khzLZedO34qa"
      }
    },
    {
      "cell_type": "code",
      "source": [
        "# Paso 1: Instalar plotly (si aún no está instalado)\n",
        "!pip install plotly --quiet"
      ],
      "metadata": {
        "id": "ZUnbyWSV3_8b"
      },
      "execution_count": 7,
      "outputs": []
    },
    {
      "cell_type": "code",
      "source": [
        "# Paso 2: Importar librerías\n",
        "import plotly.graph_objects as go\n",
        "from google.colab import files"
      ],
      "metadata": {
        "id": "bMyyDGq03_pq"
      },
      "execution_count": 8,
      "outputs": []
    },
    {
      "cell_type": "code",
      "source": [
        "# Paso 3: Definir nodos con saltos de línea para evitar superposición\n",
        "nodos = [\n",
        "    \"Gestión emocional\\nen educación superior\",      # 0\n",
        "    \"Neurobiología\\nde las emociones\",               # 1\n",
        "    \"Factores\\npsicosociales\",                       # 2\n",
        "    \"Manifestaciones\\nclínicas\",                     # 3\n",
        "    \"Consecuencias\\nacadémicas y personales\",        # 4\n",
        "    \"Sistema límbico:\\namígdala, hipocampo, ínsula\", # 5\n",
        "    \"Corteza prefrontal:\\nregulación emocional\",     # 6\n",
        "    \"Eje HPA:\\nés/trés crónico, cortisol elevado\",   # 7\n",
        "    \"Atrofia cortical\\ny neuroinflamación\",          # 8\n",
        "    \"Presión académica\\nextrema\",                    # 9\n",
        "    \"Aislamiento\\ninstitucional\",                    #10\n",
        "    \"Falta de\\nred de apoyo\",                        #11\n",
        "    \"Déficit cognitivo:\\nmemoria, atención\",         #12\n",
        "    \"Síntomas emocionales:\\nansiedad, fatiga\",       #13\n",
        "    \"Conductas evitativas:\\nprocrastinación, abandono\", #14\n",
        "    \"Desmotivación\\nprofunda\",                       #15\n",
        "    \"Retiro del\\nposgrado\",                          #16\n",
        "    \"Fracaso\\nacadémico\"                             #17\n",
        "]\n",
        "\n",
        "# Paso 4: Definir conexiones entre nodos (padre -> hijo)\n",
        "edges = [\n",
        "    (0, 1), (0, 2), (0, 3), (0, 4),\n",
        "    (1, 5), (1, 6), (1, 7), (1, 8),\n",
        "    (2, 9), (2,10), (2,11),\n",
        "    (3,12), (3,13), (3,14),\n",
        "    (4,15), (4,16), (4,17)\n",
        "]\n",
        "\n",
        "# Paso 5: Posiciones ajustadas para evitar superposición\n",
        "positions = {\n",
        "    0: (0.5, 1.0),\n",
        "    1: (0.15, 0.8), 2: (0.5, 0.8), 3: (0.85, 0.8), 4: (0.5, 0.65),\n",
        "    5: (0.05, 0.6), 6: (0.15, 0.55), 7: (0.25, 0.6), 8: (0.35, 0.55),\n",
        "    9: (0.4, 0.6), 10: (0.5, 0.55), 11: (0.6, 0.6),\n",
        "    12: (0.75, 0.6), 13: (0.85, 0.55), 14: (0.95, 0.6),\n",
        "    15: (0.35, 0.5), 16: (0.5, 0.5), 17: (0.65, 0.5)\n",
        "}\n",
        "\n",
        "# Paso 6: Crear trazas de aristas\n",
        "edge_x = []\n",
        "edge_y = []\n",
        "for src, dst in edges:\n",
        "    x0, y0 = positions[src]\n",
        "    x1, y1 = positions[dst]\n",
        "    edge_x.extend([x0, x1, None])\n",
        "    edge_y.extend([y0, y1, None])\n",
        "\n",
        "edge_trace = go.Scatter(\n",
        "    x=edge_x, y=edge_y,\n",
        "    line=dict(width=1, color='gray'),\n",
        "    hoverinfo='none',\n",
        "    mode='lines'\n",
        ")\n",
        "\n",
        "# Paso 7: Crear trazas de nodos\n",
        "node_x = []\n",
        "node_y = []\n",
        "for i in range(len(nodos)):\n",
        "    x, y = positions[i]\n",
        "    node_x.append(x)\n",
        "    node_y.append(y)\n",
        "\n",
        "node_trace = go.Scatter(\n",
        "    x=node_x, y=node_y,\n",
        "    mode='markers+text',\n",
        "    text=nodos,\n",
        "    textposition='top center',\n",
        "    hoverinfo='text',\n",
        "    marker=dict(\n",
        "        showscale=False,\n",
        "        color=['#1f77b4'] + ['#FF7F0E']*4 + ['#FFBB78']*3 + ['#98DF8A']*3 + ['#D62728']*3,\n",
        "        size=28,\n",
        "        line=dict(width=2, color='black')\n",
        "    )\n",
        ")\n",
        "\n",
        "# Paso 8: Crear figura interactiva\n",
        "fig = go.Figure(data=[edge_trace, node_trace],\n",
        "                layout=go.Layout(\n",
        "                    title=\"🌐 Mapa Mental Interactivo sin Superposición\",\n",
        "                    titlefont_size=20,\n",
        "                    showlegend=False,\n",
        "                    hovermode='closest',\n",
        "                    margin=dict(b=20,l=5,r=5,t=40),\n",
        "                    xaxis=dict(showgrid=False, zeroline=False, showticklabels=False),\n",
        "                    yaxis=dict(showgrid=False, zeroline=False, showticklabels=False),\n",
        "                    height=800\n",
        "                ))\n"
      ],
      "metadata": {
        "id": "1s9wuRc53_I7"
      },
      "execution_count": 9,
      "outputs": []
    },
    {
      "cell_type": "code",
      "source": [
        "# Paso 9: Guardar como HTML\n",
        "fig.write_html(\"mapa_mental_interactivo_sin_superposicion.html\")"
      ],
      "metadata": {
        "id": "1jOt-3Ts4WHC"
      },
      "execution_count": 10,
      "outputs": []
    },
    {
      "cell_type": "code",
      "source": [
        "# Paso 10: Descargar el archivo\n",
        "files.download(\"mapa_mental_interactivo_sin_superposicion.html\")\n"
      ],
      "metadata": {
        "colab": {
          "base_uri": "https://localhost:8080/",
          "height": 17
        },
        "id": "_hb9F5rm4V6D",
        "outputId": "79ce4b45-1515-44e9-e50c-c017e00ed22c"
      },
      "execution_count": 11,
      "outputs": [
        {
          "output_type": "display_data",
          "data": {
            "text/plain": [
              "<IPython.core.display.Javascript object>"
            ],
            "application/javascript": [
              "\n",
              "    async function download(id, filename, size) {\n",
              "      if (!google.colab.kernel.accessAllowed) {\n",
              "        return;\n",
              "      }\n",
              "      const div = document.createElement('div');\n",
              "      const label = document.createElement('label');\n",
              "      label.textContent = `Downloading \"${filename}\": `;\n",
              "      div.appendChild(label);\n",
              "      const progress = document.createElement('progress');\n",
              "      progress.max = size;\n",
              "      div.appendChild(progress);\n",
              "      document.body.appendChild(div);\n",
              "\n",
              "      const buffers = [];\n",
              "      let downloaded = 0;\n",
              "\n",
              "      const channel = await google.colab.kernel.comms.open(id);\n",
              "      // Send a message to notify the kernel that we're ready.\n",
              "      channel.send({})\n",
              "\n",
              "      for await (const message of channel.messages) {\n",
              "        // Send a message to notify the kernel that we're ready.\n",
              "        channel.send({})\n",
              "        if (message.buffers) {\n",
              "          for (const buffer of message.buffers) {\n",
              "            buffers.push(buffer);\n",
              "            downloaded += buffer.byteLength;\n",
              "            progress.value = downloaded;\n",
              "          }\n",
              "        }\n",
              "      }\n",
              "      const blob = new Blob(buffers, {type: 'application/binary'});\n",
              "      const a = document.createElement('a');\n",
              "      a.href = window.URL.createObjectURL(blob);\n",
              "      a.download = filename;\n",
              "      div.appendChild(a);\n",
              "      a.click();\n",
              "      div.remove();\n",
              "    }\n",
              "  "
            ]
          },
          "metadata": {}
        },
        {
          "output_type": "display_data",
          "data": {
            "text/plain": [
              "<IPython.core.display.Javascript object>"
            ],
            "application/javascript": [
              "download(\"download_5e70de4e-1281-4924-b732-9d65adc37fa8\", \"mapa_mental_interactivo_sin_superposicion.html\", 4568517)"
            ]
          },
          "metadata": {}
        }
      ]
    }
  ]
}